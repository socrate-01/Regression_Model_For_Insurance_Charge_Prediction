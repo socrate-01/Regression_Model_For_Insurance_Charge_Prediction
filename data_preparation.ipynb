{
 "cells": [
  {
   "cell_type": "markdown",
   "metadata": {},
   "source": [
    "# Data Preparation"
   ]
  },
  {
   "cell_type": "code",
   "execution_count": 2,
   "metadata": {},
   "outputs": [],
   "source": [
    "import sys\n",
    "from copy import deepcopy\n",
    "import warnings\n",
    "import numpy as np\n",
    "from numpy import inf, nan\n",
    "import pandas as pd\n",
    "import joblib\n",
    "from sklearn.impute import SimpleImputer\n",
    "from sklearn.pipeline import Pipeline\n",
    "from sklearn.preprocessing import OrdinalEncoder\n",
    "from sklearn.compose import ColumnTransformer\n",
    "import featuretools as ft\n",
    "\n",
    "sys.path.append(\"../../\")\n",
    "\n",
    "from insurance_charges_model.prediction.transformers import DFSTransformer\n",
    "from insurance_charges_model.prediction.transformers import InfinityToNaNTransformer\n",
    "from insurance_charges_model.prediction.transformers import IntToFloatTransformer\n",
    "from insurance_charges_model.prediction.transformers import BooleanTransformer\n",
    "\n",
    "warnings.filterwarnings('ignore')\n",
    "pd.set_option(\"display.max_columns\", None)"
   ]
  },
  {
   "cell_type": "markdown",
   "metadata": {},
   "source": [
    "## Loading the Data"
   ]
  },
  {
   "cell_type": "code",
   "execution_count": 3,
   "metadata": {},
   "outputs": [
    {
     "data": {
      "text/html": [
       "<div>\n",
       "<style scoped>\n",
       "    .dataframe tbody tr th:only-of-type {\n",
       "        vertical-align: middle;\n",
       "    }\n",
       "\n",
       "    .dataframe tbody tr th {\n",
       "        vertical-align: top;\n",
       "    }\n",
       "\n",
       "    .dataframe thead th {\n",
       "        text-align: right;\n",
       "    }\n",
       "</style>\n",
       "<table border=\"1\" class=\"dataframe\">\n",
       "  <thead>\n",
       "    <tr style=\"text-align: right;\">\n",
       "      <th></th>\n",
       "      <th>age</th>\n",
       "      <th>sex</th>\n",
       "      <th>bmi</th>\n",
       "      <th>children</th>\n",
       "      <th>smoker</th>\n",
       "      <th>region</th>\n",
       "      <th>charges</th>\n",
       "    </tr>\n",
       "  </thead>\n",
       "  <tbody>\n",
       "    <tr>\n",
       "      <th>0</th>\n",
       "      <td>19</td>\n",
       "      <td>female</td>\n",
       "      <td>27.900</td>\n",
       "      <td>0</td>\n",
       "      <td>yes</td>\n",
       "      <td>southwest</td>\n",
       "      <td>16884.92400</td>\n",
       "    </tr>\n",
       "    <tr>\n",
       "      <th>1</th>\n",
       "      <td>18</td>\n",
       "      <td>male</td>\n",
       "      <td>33.770</td>\n",
       "      <td>1</td>\n",
       "      <td>no</td>\n",
       "      <td>southeast</td>\n",
       "      <td>1725.55230</td>\n",
       "    </tr>\n",
       "    <tr>\n",
       "      <th>2</th>\n",
       "      <td>28</td>\n",
       "      <td>male</td>\n",
       "      <td>33.000</td>\n",
       "      <td>3</td>\n",
       "      <td>no</td>\n",
       "      <td>southeast</td>\n",
       "      <td>4449.46200</td>\n",
       "    </tr>\n",
       "    <tr>\n",
       "      <th>3</th>\n",
       "      <td>33</td>\n",
       "      <td>male</td>\n",
       "      <td>22.705</td>\n",
       "      <td>0</td>\n",
       "      <td>no</td>\n",
       "      <td>northwest</td>\n",
       "      <td>21984.47061</td>\n",
       "    </tr>\n",
       "    <tr>\n",
       "      <th>4</th>\n",
       "      <td>32</td>\n",
       "      <td>male</td>\n",
       "      <td>28.880</td>\n",
       "      <td>0</td>\n",
       "      <td>no</td>\n",
       "      <td>northwest</td>\n",
       "      <td>3866.85520</td>\n",
       "    </tr>\n",
       "  </tbody>\n",
       "</table>\n",
       "</div>"
      ],
      "text/plain": [
       "   age     sex     bmi  children smoker     region      charges\n",
       "0   19  female  27.900         0    yes  southwest  16884.92400\n",
       "1   18    male  33.770         1     no  southeast   1725.55230\n",
       "2   28    male  33.000         3     no  southeast   4449.46200\n",
       "3   33    male  22.705         0     no  northwest  21984.47061\n",
       "4   32    male  28.880         0     no  northwest   3866.85520"
      ]
     },
     "execution_count": 3,
     "metadata": {},
     "output_type": "execute_result"
    }
   ],
   "source": [
    "df = pd.read_csv(\"insurance.csv\")\n",
    "df.head()\n"
   ]
  },
  {
   "cell_type": "markdown",
   "metadata": {},
   "source": [
    "## Deep Feature Synthesis\n",
    "We'll be using the featuretools package to do feature engineering.\n",
    "\n",
    "An EntitySet is an object that we will give to the featuretools package in order to do feature engineering. An entitySet denotes the features of specific \"entity\" in the real world. In this case, we will work with only one type of entity: \"transactions\"."
   ]
  },
  {
   "cell_type": "code",
   "execution_count": 4,
   "metadata": {},
   "outputs": [
    {
     "data": {
      "text/plain": [
       "Entityset: Transactions\n",
       "  Entities:\n",
       "    Transactions [Rows: 1338, Columns: 8]\n",
       "  Relationships:\n",
       "    No relationships"
      ]
     },
     "execution_count": 4,
     "metadata": {},
     "output_type": "execute_result"
    }
   ],
   "source": [
    "entityset = ft.EntitySet(id=\"Transactions\")\n",
    "entityset = entityset.entity_from_dataframe(entity_id=\"Transactions\",\n",
    "                                            dataframe=df,\n",
    "                                            make_index=True,\n",
    "                                            index=\"index\")\n",
    "\n",
    "entityset"
   ]
  },
  {
   "cell_type": "code",
   "execution_count": 5,
   "metadata": {},
   "outputs": [
    {
     "data": {
      "text/plain": [
       "[<Variable: index (dtype = index)>,\n",
       " <Variable: age (dtype = numeric)>,\n",
       " <Variable: sex (dtype = categorical)>,\n",
       " <Variable: bmi (dtype = numeric)>,\n",
       " <Variable: children (dtype = numeric)>,\n",
       " <Variable: smoker (dtype = categorical)>,\n",
       " <Variable: region (dtype = categorical)>,\n",
       " <Variable: charges (dtype = numeric)>]"
      ]
     },
     "execution_count": 5,
     "metadata": {},
     "output_type": "execute_result"
    }
   ],
   "source": [
    "# getting a list of variables associated with the EntitySet we just created\n",
    "entityset[\"Transactions\"].variables"
   ]
  },
  {
   "cell_type": "markdown",
   "metadata": {},
   "source": [
    "Now that we have defined an EntitySet for our data, we'll ask the featuretools package to create some features for us. The package defines a set of \"primitives\" that are able to create new features by processing the features that already exist in the EntitySet.\n",
    "\n",
    "We are also going to ignore the categorical and boolean features in the dataset because they don't play well with the numerical features."
   ]
  },
  {
   "cell_type": "code",
   "execution_count": 6,
   "metadata": {},
   "outputs": [
    {
     "data": {
      "text/plain": [
       "[<Feature: age>,\n",
       " <Feature: bmi>,\n",
       " <Feature: children>,\n",
       " <Feature: age + bmi>,\n",
       " <Feature: age + children>,\n",
       " <Feature: bmi + children>,\n",
       " <Feature: age / bmi>,\n",
       " <Feature: age / children>,\n",
       " <Feature: bmi / age>,\n",
       " <Feature: bmi / children>,\n",
       " <Feature: children / age>,\n",
       " <Feature: children / bmi>,\n",
       " <Feature: age > bmi>,\n",
       " <Feature: age > children>,\n",
       " <Feature: bmi > age>,\n",
       " <Feature: bmi > children>,\n",
       " <Feature: children > age>,\n",
       " <Feature: children > bmi>,\n",
       " <Feature: age < bmi>,\n",
       " <Feature: age < children>,\n",
       " <Feature: bmi < age>,\n",
       " <Feature: bmi < children>,\n",
       " <Feature: children < age>,\n",
       " <Feature: children < bmi>,\n",
       " <Feature: age * bmi>,\n",
       " <Feature: age * children>,\n",
       " <Feature: bmi * children>,\n",
       " <Feature: age - bmi>,\n",
       " <Feature: age - children>,\n",
       " <Feature: bmi - children>]"
      ]
     },
     "execution_count": 6,
     "metadata": {},
     "output_type": "execute_result"
    }
   ],
   "source": [
    "feature_dataframe, features = ft.dfs(entityset=entityset,\n",
    "                                     target_entity=\"Transactions\",\n",
    "                                     trans_primitives=[\"add_numeric\", \"subtract_numeric\",\n",
    "                                                       \"multiply_numeric\", \"divide_numeric\",\n",
    "                                                       \"greater_than\", \"less_than\"],\n",
    "                                     # ignoring some variables\n",
    "                                     ignore_variables={\"Transactions\": [\"sex\", \"smoker\", \"region\", \"charges\"]})\n",
    "\n",
    "features"
   ]
  },
  {
   "cell_type": "code",
   "execution_count": 7,
   "metadata": {},
   "outputs": [
    {
     "name": "stdout",
     "output_type": "stream",
     "text": [
      "We have created 30 new features from the original 6 features.\n"
     ]
    }
   ],
   "source": [
    "print(\"We have created {} new features from the original {} features.\".format(len(features), len(df.columns) - 2))"
   ]
  },
  {
   "cell_type": "markdown",
   "metadata": {},
   "source": [
    "The feature_dataframe variable now contains the new features:"
   ]
  },
  {
   "cell_type": "code",
   "execution_count": 8,
   "metadata": {},
   "outputs": [
    {
     "data": {
      "text/html": [
       "<div>\n",
       "<style scoped>\n",
       "    .dataframe tbody tr th:only-of-type {\n",
       "        vertical-align: middle;\n",
       "    }\n",
       "\n",
       "    .dataframe tbody tr th {\n",
       "        vertical-align: top;\n",
       "    }\n",
       "\n",
       "    .dataframe thead th {\n",
       "        text-align: right;\n",
       "    }\n",
       "</style>\n",
       "<table border=\"1\" class=\"dataframe\">\n",
       "  <thead>\n",
       "    <tr style=\"text-align: right;\">\n",
       "      <th></th>\n",
       "      <th>age</th>\n",
       "      <th>bmi</th>\n",
       "      <th>children</th>\n",
       "      <th>age + bmi</th>\n",
       "      <th>age + children</th>\n",
       "      <th>bmi + children</th>\n",
       "      <th>age / bmi</th>\n",
       "      <th>age / children</th>\n",
       "      <th>bmi / age</th>\n",
       "      <th>bmi / children</th>\n",
       "      <th>children / age</th>\n",
       "      <th>children / bmi</th>\n",
       "      <th>age &gt; bmi</th>\n",
       "      <th>age &gt; children</th>\n",
       "      <th>bmi &gt; age</th>\n",
       "      <th>bmi &gt; children</th>\n",
       "      <th>children &gt; age</th>\n",
       "      <th>children &gt; bmi</th>\n",
       "      <th>age &lt; bmi</th>\n",
       "      <th>age &lt; children</th>\n",
       "      <th>bmi &lt; age</th>\n",
       "      <th>bmi &lt; children</th>\n",
       "      <th>children &lt; age</th>\n",
       "      <th>children &lt; bmi</th>\n",
       "      <th>age * bmi</th>\n",
       "      <th>age * children</th>\n",
       "      <th>bmi * children</th>\n",
       "      <th>age - bmi</th>\n",
       "      <th>age - children</th>\n",
       "      <th>bmi - children</th>\n",
       "    </tr>\n",
       "    <tr>\n",
       "      <th>index</th>\n",
       "      <th></th>\n",
       "      <th></th>\n",
       "      <th></th>\n",
       "      <th></th>\n",
       "      <th></th>\n",
       "      <th></th>\n",
       "      <th></th>\n",
       "      <th></th>\n",
       "      <th></th>\n",
       "      <th></th>\n",
       "      <th></th>\n",
       "      <th></th>\n",
       "      <th></th>\n",
       "      <th></th>\n",
       "      <th></th>\n",
       "      <th></th>\n",
       "      <th></th>\n",
       "      <th></th>\n",
       "      <th></th>\n",
       "      <th></th>\n",
       "      <th></th>\n",
       "      <th></th>\n",
       "      <th></th>\n",
       "      <th></th>\n",
       "      <th></th>\n",
       "      <th></th>\n",
       "      <th></th>\n",
       "      <th></th>\n",
       "      <th></th>\n",
       "      <th></th>\n",
       "    </tr>\n",
       "  </thead>\n",
       "  <tbody>\n",
       "    <tr>\n",
       "      <th>0</th>\n",
       "      <td>19</td>\n",
       "      <td>27.900</td>\n",
       "      <td>0</td>\n",
       "      <td>46.900</td>\n",
       "      <td>19</td>\n",
       "      <td>27.900</td>\n",
       "      <td>0.681004</td>\n",
       "      <td>inf</td>\n",
       "      <td>1.468421</td>\n",
       "      <td>inf</td>\n",
       "      <td>0.000000</td>\n",
       "      <td>0.000000</td>\n",
       "      <td>False</td>\n",
       "      <td>True</td>\n",
       "      <td>True</td>\n",
       "      <td>True</td>\n",
       "      <td>False</td>\n",
       "      <td>False</td>\n",
       "      <td>True</td>\n",
       "      <td>False</td>\n",
       "      <td>False</td>\n",
       "      <td>False</td>\n",
       "      <td>True</td>\n",
       "      <td>True</td>\n",
       "      <td>530.100</td>\n",
       "      <td>0</td>\n",
       "      <td>0.00</td>\n",
       "      <td>-8.900</td>\n",
       "      <td>19</td>\n",
       "      <td>27.900</td>\n",
       "    </tr>\n",
       "    <tr>\n",
       "      <th>1</th>\n",
       "      <td>18</td>\n",
       "      <td>33.770</td>\n",
       "      <td>1</td>\n",
       "      <td>51.770</td>\n",
       "      <td>19</td>\n",
       "      <td>34.770</td>\n",
       "      <td>0.533017</td>\n",
       "      <td>18.000000</td>\n",
       "      <td>1.876111</td>\n",
       "      <td>33.77</td>\n",
       "      <td>0.055556</td>\n",
       "      <td>0.029612</td>\n",
       "      <td>False</td>\n",
       "      <td>True</td>\n",
       "      <td>True</td>\n",
       "      <td>True</td>\n",
       "      <td>False</td>\n",
       "      <td>False</td>\n",
       "      <td>True</td>\n",
       "      <td>False</td>\n",
       "      <td>False</td>\n",
       "      <td>False</td>\n",
       "      <td>True</td>\n",
       "      <td>True</td>\n",
       "      <td>607.860</td>\n",
       "      <td>18</td>\n",
       "      <td>33.77</td>\n",
       "      <td>-15.770</td>\n",
       "      <td>17</td>\n",
       "      <td>32.770</td>\n",
       "    </tr>\n",
       "    <tr>\n",
       "      <th>2</th>\n",
       "      <td>28</td>\n",
       "      <td>33.000</td>\n",
       "      <td>3</td>\n",
       "      <td>61.000</td>\n",
       "      <td>31</td>\n",
       "      <td>36.000</td>\n",
       "      <td>0.848485</td>\n",
       "      <td>9.333333</td>\n",
       "      <td>1.178571</td>\n",
       "      <td>11.00</td>\n",
       "      <td>0.107143</td>\n",
       "      <td>0.090909</td>\n",
       "      <td>False</td>\n",
       "      <td>True</td>\n",
       "      <td>True</td>\n",
       "      <td>True</td>\n",
       "      <td>False</td>\n",
       "      <td>False</td>\n",
       "      <td>True</td>\n",
       "      <td>False</td>\n",
       "      <td>False</td>\n",
       "      <td>False</td>\n",
       "      <td>True</td>\n",
       "      <td>True</td>\n",
       "      <td>924.000</td>\n",
       "      <td>84</td>\n",
       "      <td>99.00</td>\n",
       "      <td>-5.000</td>\n",
       "      <td>25</td>\n",
       "      <td>30.000</td>\n",
       "    </tr>\n",
       "    <tr>\n",
       "      <th>3</th>\n",
       "      <td>33</td>\n",
       "      <td>22.705</td>\n",
       "      <td>0</td>\n",
       "      <td>55.705</td>\n",
       "      <td>33</td>\n",
       "      <td>22.705</td>\n",
       "      <td>1.453424</td>\n",
       "      <td>inf</td>\n",
       "      <td>0.688030</td>\n",
       "      <td>inf</td>\n",
       "      <td>0.000000</td>\n",
       "      <td>0.000000</td>\n",
       "      <td>True</td>\n",
       "      <td>True</td>\n",
       "      <td>False</td>\n",
       "      <td>True</td>\n",
       "      <td>False</td>\n",
       "      <td>False</td>\n",
       "      <td>False</td>\n",
       "      <td>False</td>\n",
       "      <td>True</td>\n",
       "      <td>False</td>\n",
       "      <td>True</td>\n",
       "      <td>True</td>\n",
       "      <td>749.265</td>\n",
       "      <td>0</td>\n",
       "      <td>0.00</td>\n",
       "      <td>10.295</td>\n",
       "      <td>33</td>\n",
       "      <td>22.705</td>\n",
       "    </tr>\n",
       "    <tr>\n",
       "      <th>4</th>\n",
       "      <td>32</td>\n",
       "      <td>28.880</td>\n",
       "      <td>0</td>\n",
       "      <td>60.880</td>\n",
       "      <td>32</td>\n",
       "      <td>28.880</td>\n",
       "      <td>1.108033</td>\n",
       "      <td>inf</td>\n",
       "      <td>0.902500</td>\n",
       "      <td>inf</td>\n",
       "      <td>0.000000</td>\n",
       "      <td>0.000000</td>\n",
       "      <td>True</td>\n",
       "      <td>True</td>\n",
       "      <td>False</td>\n",
       "      <td>True</td>\n",
       "      <td>False</td>\n",
       "      <td>False</td>\n",
       "      <td>False</td>\n",
       "      <td>False</td>\n",
       "      <td>True</td>\n",
       "      <td>False</td>\n",
       "      <td>True</td>\n",
       "      <td>True</td>\n",
       "      <td>924.160</td>\n",
       "      <td>0</td>\n",
       "      <td>0.00</td>\n",
       "      <td>3.120</td>\n",
       "      <td>32</td>\n",
       "      <td>28.880</td>\n",
       "    </tr>\n",
       "  </tbody>\n",
       "</table>\n",
       "</div>"
      ],
      "text/plain": [
       "       age     bmi  children  age + bmi  age + children  bmi + children  \\\n",
       "index                                                                     \n",
       "0       19  27.900         0     46.900              19          27.900   \n",
       "1       18  33.770         1     51.770              19          34.770   \n",
       "2       28  33.000         3     61.000              31          36.000   \n",
       "3       33  22.705         0     55.705              33          22.705   \n",
       "4       32  28.880         0     60.880              32          28.880   \n",
       "\n",
       "       age / bmi  age / children  bmi / age  bmi / children  children / age  \\\n",
       "index                                                                         \n",
       "0       0.681004             inf   1.468421             inf        0.000000   \n",
       "1       0.533017       18.000000   1.876111           33.77        0.055556   \n",
       "2       0.848485        9.333333   1.178571           11.00        0.107143   \n",
       "3       1.453424             inf   0.688030             inf        0.000000   \n",
       "4       1.108033             inf   0.902500             inf        0.000000   \n",
       "\n",
       "       children / bmi  age > bmi  age > children  bmi > age  bmi > children  \\\n",
       "index                                                                         \n",
       "0            0.000000      False            True       True            True   \n",
       "1            0.029612      False            True       True            True   \n",
       "2            0.090909      False            True       True            True   \n",
       "3            0.000000       True            True      False            True   \n",
       "4            0.000000       True            True      False            True   \n",
       "\n",
       "       children > age  children > bmi  age < bmi  age < children  bmi < age  \\\n",
       "index                                                                         \n",
       "0               False           False       True           False      False   \n",
       "1               False           False       True           False      False   \n",
       "2               False           False       True           False      False   \n",
       "3               False           False      False           False       True   \n",
       "4               False           False      False           False       True   \n",
       "\n",
       "       bmi < children  children < age  children < bmi  age * bmi  \\\n",
       "index                                                              \n",
       "0               False            True            True    530.100   \n",
       "1               False            True            True    607.860   \n",
       "2               False            True            True    924.000   \n",
       "3               False            True            True    749.265   \n",
       "4               False            True            True    924.160   \n",
       "\n",
       "       age * children  bmi * children  age - bmi  age - children  \\\n",
       "index                                                              \n",
       "0                   0            0.00     -8.900              19   \n",
       "1                  18           33.77    -15.770              17   \n",
       "2                  84           99.00     -5.000              25   \n",
       "3                   0            0.00     10.295              33   \n",
       "4                   0            0.00      3.120              32   \n",
       "\n",
       "       bmi - children  \n",
       "index                  \n",
       "0              27.900  \n",
       "1              32.770  \n",
       "2              30.000  \n",
       "3              22.705  \n",
       "4              28.880  "
      ]
     },
     "execution_count": 8,
     "metadata": {},
     "output_type": "execute_result"
    }
   ],
   "source": [
    "feature_dataframe.head()"
   ]
  },
  {
   "cell_type": "markdown",
   "metadata": {},
   "source": [
    "## Encode Features using Deep Feature Synthesis\n",
    "\n",
    "Now we can create a Transformer that we can use later to create the features, given samples of the dataset."
   ]
  },
  {
   "cell_type": "code",
   "execution_count": 9,
   "metadata": {},
   "outputs": [],
   "source": [
    "dfs_transformer = DFSTransformer(\"Transactions\",\n",
    "                                 trans_primitives=[\"add_numeric\", \"subtract_numeric\",\n",
    "                                                   \"multiply_numeric\", \"divide_numeric\",\n",
    "                                                   \"greater_than\", \"less_than\"],\n",
    "                                 ignore_variables={\"Transactions\": [\"sex\", \"smoker\", \"region\"]})"
   ]
  },
  {
   "cell_type": "code",
   "execution_count": 10,
   "metadata": {},
   "outputs": [
    {
     "data": {
      "text/html": [
       "<div>\n",
       "<style scoped>\n",
       "    .dataframe tbody tr th:only-of-type {\n",
       "        vertical-align: middle;\n",
       "    }\n",
       "\n",
       "    .dataframe tbody tr th {\n",
       "        vertical-align: top;\n",
       "    }\n",
       "\n",
       "    .dataframe thead th {\n",
       "        text-align: right;\n",
       "    }\n",
       "</style>\n",
       "<table border=\"1\" class=\"dataframe\">\n",
       "  <thead>\n",
       "    <tr style=\"text-align: right;\">\n",
       "      <th></th>\n",
       "      <th>age</th>\n",
       "      <th>bmi</th>\n",
       "      <th>children</th>\n",
       "      <th>age + bmi</th>\n",
       "      <th>age + children</th>\n",
       "      <th>bmi + children</th>\n",
       "      <th>age / bmi</th>\n",
       "      <th>age / children</th>\n",
       "      <th>bmi / age</th>\n",
       "      <th>bmi / children</th>\n",
       "      <th>children / age</th>\n",
       "      <th>children / bmi</th>\n",
       "      <th>age &gt; bmi</th>\n",
       "      <th>age &gt; children</th>\n",
       "      <th>bmi &gt; age</th>\n",
       "      <th>bmi &gt; children</th>\n",
       "      <th>children &gt; age</th>\n",
       "      <th>children &gt; bmi</th>\n",
       "      <th>age &lt; bmi</th>\n",
       "      <th>age &lt; children</th>\n",
       "      <th>bmi &lt; age</th>\n",
       "      <th>bmi &lt; children</th>\n",
       "      <th>children &lt; age</th>\n",
       "      <th>children &lt; bmi</th>\n",
       "      <th>age * bmi</th>\n",
       "      <th>age * children</th>\n",
       "      <th>bmi * children</th>\n",
       "      <th>age - bmi</th>\n",
       "      <th>age - children</th>\n",
       "      <th>bmi - children</th>\n",
       "    </tr>\n",
       "    <tr>\n",
       "      <th>index</th>\n",
       "      <th></th>\n",
       "      <th></th>\n",
       "      <th></th>\n",
       "      <th></th>\n",
       "      <th></th>\n",
       "      <th></th>\n",
       "      <th></th>\n",
       "      <th></th>\n",
       "      <th></th>\n",
       "      <th></th>\n",
       "      <th></th>\n",
       "      <th></th>\n",
       "      <th></th>\n",
       "      <th></th>\n",
       "      <th></th>\n",
       "      <th></th>\n",
       "      <th></th>\n",
       "      <th></th>\n",
       "      <th></th>\n",
       "      <th></th>\n",
       "      <th></th>\n",
       "      <th></th>\n",
       "      <th></th>\n",
       "      <th></th>\n",
       "      <th></th>\n",
       "      <th></th>\n",
       "      <th></th>\n",
       "      <th></th>\n",
       "      <th></th>\n",
       "      <th></th>\n",
       "    </tr>\n",
       "  </thead>\n",
       "  <tbody>\n",
       "    <tr>\n",
       "      <th>0</th>\n",
       "      <td>65</td>\n",
       "      <td>12.50</td>\n",
       "      <td>0</td>\n",
       "      <td>77.50</td>\n",
       "      <td>65</td>\n",
       "      <td>12.50</td>\n",
       "      <td>5.200000</td>\n",
       "      <td>inf</td>\n",
       "      <td>0.192308</td>\n",
       "      <td>inf</td>\n",
       "      <td>0.000000</td>\n",
       "      <td>0.000000</td>\n",
       "      <td>True</td>\n",
       "      <td>True</td>\n",
       "      <td>False</td>\n",
       "      <td>True</td>\n",
       "      <td>False</td>\n",
       "      <td>False</td>\n",
       "      <td>False</td>\n",
       "      <td>False</td>\n",
       "      <td>True</td>\n",
       "      <td>False</td>\n",
       "      <td>True</td>\n",
       "      <td>True</td>\n",
       "      <td>812.50</td>\n",
       "      <td>0</td>\n",
       "      <td>0.00</td>\n",
       "      <td>52.50</td>\n",
       "      <td>65</td>\n",
       "      <td>12.50</td>\n",
       "    </tr>\n",
       "    <tr>\n",
       "      <th>1</th>\n",
       "      <td>75</td>\n",
       "      <td>78.77</td>\n",
       "      <td>1</td>\n",
       "      <td>153.77</td>\n",
       "      <td>76</td>\n",
       "      <td>79.77</td>\n",
       "      <td>0.952139</td>\n",
       "      <td>75.0</td>\n",
       "      <td>1.050267</td>\n",
       "      <td>78.77</td>\n",
       "      <td>0.013333</td>\n",
       "      <td>0.012695</td>\n",
       "      <td>False</td>\n",
       "      <td>True</td>\n",
       "      <td>True</td>\n",
       "      <td>True</td>\n",
       "      <td>False</td>\n",
       "      <td>False</td>\n",
       "      <td>True</td>\n",
       "      <td>False</td>\n",
       "      <td>False</td>\n",
       "      <td>False</td>\n",
       "      <td>True</td>\n",
       "      <td>True</td>\n",
       "      <td>5907.75</td>\n",
       "      <td>75</td>\n",
       "      <td>78.77</td>\n",
       "      <td>-3.77</td>\n",
       "      <td>74</td>\n",
       "      <td>77.77</td>\n",
       "    </tr>\n",
       "  </tbody>\n",
       "</table>\n",
       "</div>"
      ],
      "text/plain": [
       "       age    bmi  children  age + bmi  age + children  bmi + children  \\\n",
       "index                                                                    \n",
       "0       65  12.50         0      77.50              65           12.50   \n",
       "1       75  78.77         1     153.77              76           79.77   \n",
       "\n",
       "       age / bmi  age / children  bmi / age  bmi / children  children / age  \\\n",
       "index                                                                         \n",
       "0       5.200000             inf   0.192308             inf        0.000000   \n",
       "1       0.952139            75.0   1.050267           78.77        0.013333   \n",
       "\n",
       "       children / bmi  age > bmi  age > children  bmi > age  bmi > children  \\\n",
       "index                                                                         \n",
       "0            0.000000       True            True      False            True   \n",
       "1            0.012695      False            True       True            True   \n",
       "\n",
       "       children > age  children > bmi  age < bmi  age < children  bmi < age  \\\n",
       "index                                                                         \n",
       "0               False           False      False           False       True   \n",
       "1               False           False       True           False      False   \n",
       "\n",
       "       bmi < children  children < age  children < bmi  age * bmi  \\\n",
       "index                                                              \n",
       "0               False            True            True     812.50   \n",
       "1               False            True            True    5907.75   \n",
       "\n",
       "       age * children  bmi * children  age - bmi  age - children  \\\n",
       "index                                                              \n",
       "0                   0            0.00      52.50              65   \n",
       "1                  75           78.77      -3.77              74   \n",
       "\n",
       "       bmi - children  \n",
       "index                  \n",
       "0               12.50  \n",
       "1               77.77  "
      ]
     },
     "execution_count": 10,
     "metadata": {},
     "output_type": "execute_result"
    }
   ],
   "source": [
    "# testing the transformer\n",
    "test_df = pd.DataFrame([[65, \"male\", 12.5, 0, \"yes\", \"southwest\"],\n",
    "                        [75, \"female\", 78.770, 1, \"no\", \"southeast\"]],\n",
    "                       columns=[\"age\", \"sex\", \"bmi\", \"children\", \"smoker\", \"region\"])\n",
    "\n",
    "# copying the transformer object in order to fit and test it\n",
    "dfs_transformer_copy = deepcopy(dfs_transformer)\n",
    "\n",
    "dfs_transformer_copy.fit(test_df)\n",
    "new_df = dfs_transformer_copy.transform(test_df)\n",
    "\n",
    "if len(new_df.columns) != 30:\n",
    "    raise ValueError(\"Unexpected number of columns found in the dataframe.\")\n",
    "\n",
    "new_df.head()"
   ]
  },
  {
   "cell_type": "markdown",
   "metadata": {},
   "source": [
    "## Create Transformer for inf Values\n",
    "\n",
    "Some of the features created by the featuretools package have a value of 'inf'. We'll create a transformer that maps these values to 0.0 to allow the models to be trained."
   ]
  },
  {
   "cell_type": "code",
   "execution_count": 11,
   "metadata": {},
   "outputs": [],
   "source": [
    "infinity_transformer = InfinityToNaNTransformer()"
   ]
  },
  {
   "cell_type": "code",
   "execution_count": 12,
   "metadata": {},
   "outputs": [
    {
     "name": "stdout",
     "output_type": "stream",
     "text": [
      "[[ 1.]\n",
      " [nan]\n",
      " [ 1.]]\n"
     ]
    }
   ],
   "source": [
    "# testing the transformer\n",
    "inpt = [[1.0], [inf], [1.0]]\n",
    "\n",
    "# copying the transformer object in order to fit and test it\n",
    "infinity_transformer_copy = deepcopy(infinity_transformer)\n",
    "\n",
    "infinity_transformer_copy.fit(inpt)\n",
    "result = infinity_transformer_copy.transform(inpt)\n",
    "\n",
    "print(result)"
   ]
  },
  {
   "cell_type": "markdown",
   "metadata": {},
   "source": [
    "In order to handle the NaN values, we'll use a SimpleImputer that will fill in the missing value:"
   ]
  },
  {
   "cell_type": "code",
   "execution_count": 13,
   "metadata": {},
   "outputs": [],
   "source": [
    "simple_imputer = SimpleImputer(missing_values=np.nan, strategy='mean')"
   ]
  },
  {
   "cell_type": "code",
   "execution_count": 14,
   "metadata": {},
   "outputs": [
    {
     "name": "stdout",
     "output_type": "stream",
     "text": [
      "[[1.]\n",
      " [1.]\n",
      " [1.]]\n"
     ]
    }
   ],
   "source": [
    "# testing the transformer\n",
    "\n",
    "# copying the transformer object in order to fit and test it\n",
    "simple_imputer_copy = deepcopy(simple_imputer)\n",
    "\n",
    "simple_imputer_copy.fit(result)\n",
    "\n",
    "test_df = [[np.nan, 2, 3], [4, np.nan, 6], [10, np.nan, 9]]\n",
    "print(simple_imputer_copy.transform(result))"
   ]
  },
  {
   "cell_type": "markdown",
   "metadata": {},
   "source": [
    "The SimpleImputer transformer has problems with imputing values that are not floats when using the 'mean' strategy. To fix this, we'll create a transformer that will convert all integer columns into floating point columns:"
   ]
  },
  {
   "cell_type": "code",
   "execution_count": 15,
   "metadata": {},
   "outputs": [],
   "source": [
    "int_to_float_transformer = IntToFloatTransformer()"
   ]
  },
  {
   "cell_type": "code",
   "execution_count": 16,
   "metadata": {},
   "outputs": [
    {
     "name": "stdout",
     "output_type": "stream",
     "text": [
      "[[ 2.  3.]\n",
      " [ 4.  6.]\n",
      " [10.  9.]]\n"
     ]
    }
   ],
   "source": [
    "# test the transformer\n",
    "\n",
    "# copying the transformer object in order to fit and test it\n",
    "int_to_float_transformer_copy = deepcopy(int_to_float_transformer)\n",
    "\n",
    "int_to_float_transformer_copy.fit(result)\n",
    "\n",
    "test_df = [[2, 3.0], [4, 6.0], [10, 9.0]]\n",
    "print(int_to_float_transformer_copy.transform(test_df))\n"
   ]
  },
  {
   "cell_type": "markdown",
   "metadata": {},
   "source": [
    "Lastly, we'll put the IntToFloatTransformer, DFSTransformer, InfinityToNaNTransformer, and SimpleImputer transformers into a Pipeline so they'll all work together as a unit:"
   ]
  },
  {
   "cell_type": "code",
   "execution_count": 17,
   "metadata": {},
   "outputs": [],
   "source": [
    "dfs_pipeline = Pipeline([\n",
    "    (\"dfs_transformer\", dfs_transformer),\n",
    "    (\"int_to_float_transformer\", int_to_float_transformer),\n",
    "    (\"infinity_transformer\", infinity_transformer),\n",
    "    (\"simple_imputer\", simple_imputer),\n",
    "])"
   ]
  },
  {
   "cell_type": "code",
   "execution_count": 18,
   "metadata": {},
   "outputs": [],
   "source": [
    "# testing the transformer\n",
    "test_df = pd.DataFrame([[65, 12.5, 0],\n",
    "                        [75, 78.770, 1]],\n",
    "                       columns=[\"age\", \"bmi\", \"children\"])\n",
    "\n",
    "# copying the transformer object in order to fit and test it\n",
    "dfs_pipeline_copy = deepcopy(dfs_pipeline)\n",
    "\n",
    "dfs_pipeline_copy.fit(test_df)\n",
    "new_df = dfs_pipeline_copy.transform(test_df)\n",
    "\n",
    "if len(new_df[0]) != 30:\n",
    "    raise ValueError(\"Unexpected number of columns found in the dataframe.\")"
   ]
  },
  {
   "cell_type": "markdown",
   "metadata": {},
   "source": [
    "## Encode Boolean Features\n",
    "\n",
    "We'll create a transformer that is able to convert the string in the 'smoker' feature to a boolean value."
   ]
  },
  {
   "cell_type": "code",
   "execution_count": 19,
   "metadata": {},
   "outputs": [],
   "source": [
    "boolean_transformer = BooleanTransformer(true_value=\"yes\", false_value=\"no\")"
   ]
  },
  {
   "cell_type": "code",
   "execution_count": 20,
   "metadata": {},
   "outputs": [],
   "source": [
    "# testing the transformer\n",
    "test_df = pd.DataFrame([[\"yes\"], [\"no\"], [\"yes\"]],\n",
    "                       columns=[\"smoker\"])\n",
    "\n",
    "# copying the transformer object in order to fit and test it\n",
    "boolean_transformer_copy = deepcopy(boolean_transformer)\n",
    "\n",
    "boolean_transformer_copy.fit(test_df)\n",
    "result = boolean_transformer_copy.transform(test_df)\n",
    "\n",
    "if (result != np.array([[True], [False], [True]])).all():\n",
    "    raise ValueError(\"Unexpected values found in array.\")"
   ]
  },
  {
   "cell_type": "markdown",
   "metadata": {},
   "source": [
    "## Encode Categorical Features\n",
    "\n",
    "Next, we'll create an encoder that will encode the categorical features. The categorical features that we will encode will be 'sex' and 'region'."
   ]
  },
  {
   "cell_type": "code",
   "execution_count": 21,
   "metadata": {},
   "outputs": [],
   "source": [
    "ordinal_encoder = OrdinalEncoder()"
   ]
  },
  {
   "cell_type": "code",
   "execution_count": 22,
   "metadata": {},
   "outputs": [],
   "source": [
    "# testing the transformer\n",
    "test_df = pd.DataFrame([[\"southwest\"], [\"northeast\"], [\"southwest\"]],\n",
    "                       columns=[\"region\"])\n",
    "\n",
    "# copying the transformer object in order to fit and test it\n",
    "ordinal_encoder_copy = deepcopy(ordinal_encoder)\n",
    "\n",
    "ordinal_encoder_copy.fit(test_df)\n",
    "result = ordinal_encoder_copy.transform(test_df)\n",
    "\n",
    "if (result != np.array([[1.0], [0.0], [1.0]])).all():\n",
    "    raise ValueError(\"Unexpected values found in array.\")"
   ]
  },
  {
   "cell_type": "markdown",
   "metadata": {},
   "source": [
    "## Create ColumnTransformer\n",
    "\n",
    "Combining all of the preprocessors into one ColumnTransformer that can be used to preprocess the data."
   ]
  },
  {
   "cell_type": "code",
   "execution_count": 23,
   "metadata": {},
   "outputs": [],
   "source": [
    "column_transformer = ColumnTransformer(\n",
    "    remainder=\"passthrough\",\n",
    "    transformers=[\n",
    "        (\"dfs_pipeline\", dfs_pipeline, [\"age\", \"sex\", \"bmi\", \"children\", \"smoker\", \"region\"]),\n",
    "        (\"boolean_transformer\", boolean_transformer, [\"smoker\"]),\n",
    "        (\"ordinal_encoder\", ordinal_encoder, [\"sex\", \"region\"])\n",
    "    ]\n",
    ")"
   ]
  },
  {
   "cell_type": "code",
   "execution_count": 24,
   "metadata": {},
   "outputs": [],
   "source": [
    "# testing the ColumnTransformer\n",
    "test_df = pd.DataFrame([[65, \"male\", 12.5, 0, \"yes\", \"southwest\"],\n",
    "                        [75, \"female\", 78.770, 1, \"no\", \"southeast\"]],\n",
    "                       columns=[\"age\", \"sex\", \"bmi\", \"children\", \"smoker\", \"region\"])\n",
    "\n",
    "# copying the transformer object in order to fit and test it\n",
    "column_transformer_copy = deepcopy(column_transformer)\n",
    "\n",
    "column_transformer_copy.fit(test_df)\n",
    "\n",
    "result = column_transformer_copy.transform(test_df)\n",
    "\n",
    "if len(result[0]) != 33:  # expecting 33 features to come out of the ColumnTransformer\n",
    "    raise ValueError(\"Unexpected number of columns found in the dataframe.\")"
   ]
  },
  {
   "cell_type": "markdown",
   "metadata": {},
   "source": [
    "## Saving ColumnTransformer\n",
    "\n",
    "NOTE: the ColumnTransformer object is saved in an UNFITTED state, it will be fitted to the data set later"
   ]
  },
  {
   "cell_type": "code",
   "execution_count": 25,
   "metadata": {},
   "outputs": [
    {
     "data": {
      "text/plain": [
       "['transformer.joblib']"
      ]
     },
     "execution_count": 25,
     "metadata": {},
     "output_type": "execute_result"
    }
   ],
   "source": [
    "joblib.dump(column_transformer, \"transformer.joblib\")"
   ]
  },
  {
   "cell_type": "code",
   "execution_count": null,
   "metadata": {},
   "outputs": [],
   "source": []
  }
 ],
 "metadata": {
  "kernelspec": {
   "display_name": "Python 3 (ipykernel)",
   "language": "python",
   "name": "python3"
  },
  "language_info": {
   "codemirror_mode": {
    "name": "ipython",
    "version": 3
   },
   "file_extension": ".py",
   "mimetype": "text/x-python",
   "name": "python",
   "nbconvert_exporter": "python",
   "pygments_lexer": "ipython3",
   "version": "3.11.5"
  }
 },
 "nbformat": 4,
 "nbformat_minor": 4
}
