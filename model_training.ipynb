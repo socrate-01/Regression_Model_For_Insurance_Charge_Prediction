{
 "cells": [
  {
   "cell_type": "markdown",
   "metadata": {},
   "source": [
    "# Model Training"
   ]
  },
  {
   "cell_type": "code",
   "execution_count": 1,
   "metadata": {},
   "outputs": [
    {
     "name": "stderr",
     "output_type": "stream",
     "text": [
      "/Users/seydina/Desktop/regression-model/venv/lib/python3.11/site-packages/tpot/builtins/__init__.py:36: UserWarning: Warning: optional dependency `torch` is not available. - skipping import of NN models.\n",
      "  warnings.warn(\"Warning: optional dependency `torch` is not available. - skipping import of NN models.\")\n"
     ]
    }
   ],
   "source": [
    "import sys\n",
    "import warnings\n",
    "import pandas as pd\n",
    "import numpy as np\n",
    "import joblib\n",
    "from tpot import TPOTRegressor\n",
    "from sklearn.model_selection import train_test_split\n",
    "from sklearn.pipeline import Pipeline\n",
    "from sklearn.base import clone\n",
    "\n",
    "sys.path.append(\"../../\")\n",
    "\n",
    "warnings.filterwarnings('ignore')\n",
    "pd.set_option(\"display.max_columns\", None)"
   ]
  },
  {
   "cell_type": "markdown",
   "metadata": {},
   "source": [
    "## Load Data"
   ]
  },
  {
   "cell_type": "code",
   "execution_count": 2,
   "metadata": {},
   "outputs": [
    {
     "data": {
      "text/html": [
       "<div>\n",
       "<style scoped>\n",
       "    .dataframe tbody tr th:only-of-type {\n",
       "        vertical-align: middle;\n",
       "    }\n",
       "\n",
       "    .dataframe tbody tr th {\n",
       "        vertical-align: top;\n",
       "    }\n",
       "\n",
       "    .dataframe thead th {\n",
       "        text-align: right;\n",
       "    }\n",
       "</style>\n",
       "<table border=\"1\" class=\"dataframe\">\n",
       "  <thead>\n",
       "    <tr style=\"text-align: right;\">\n",
       "      <th></th>\n",
       "      <th>age</th>\n",
       "      <th>sex</th>\n",
       "      <th>bmi</th>\n",
       "      <th>children</th>\n",
       "      <th>smoker</th>\n",
       "      <th>region</th>\n",
       "      <th>charges</th>\n",
       "    </tr>\n",
       "  </thead>\n",
       "  <tbody>\n",
       "    <tr>\n",
       "      <th>0</th>\n",
       "      <td>19</td>\n",
       "      <td>female</td>\n",
       "      <td>27.900</td>\n",
       "      <td>0</td>\n",
       "      <td>yes</td>\n",
       "      <td>southwest</td>\n",
       "      <td>16884.92400</td>\n",
       "    </tr>\n",
       "    <tr>\n",
       "      <th>1</th>\n",
       "      <td>18</td>\n",
       "      <td>male</td>\n",
       "      <td>33.770</td>\n",
       "      <td>1</td>\n",
       "      <td>no</td>\n",
       "      <td>southeast</td>\n",
       "      <td>1725.55230</td>\n",
       "    </tr>\n",
       "    <tr>\n",
       "      <th>2</th>\n",
       "      <td>28</td>\n",
       "      <td>male</td>\n",
       "      <td>33.000</td>\n",
       "      <td>3</td>\n",
       "      <td>no</td>\n",
       "      <td>southeast</td>\n",
       "      <td>4449.46200</td>\n",
       "    </tr>\n",
       "    <tr>\n",
       "      <th>3</th>\n",
       "      <td>33</td>\n",
       "      <td>male</td>\n",
       "      <td>22.705</td>\n",
       "      <td>0</td>\n",
       "      <td>no</td>\n",
       "      <td>northwest</td>\n",
       "      <td>21984.47061</td>\n",
       "    </tr>\n",
       "    <tr>\n",
       "      <th>4</th>\n",
       "      <td>32</td>\n",
       "      <td>male</td>\n",
       "      <td>28.880</td>\n",
       "      <td>0</td>\n",
       "      <td>no</td>\n",
       "      <td>northwest</td>\n",
       "      <td>3866.85520</td>\n",
       "    </tr>\n",
       "  </tbody>\n",
       "</table>\n",
       "</div>"
      ],
      "text/plain": [
       "   age     sex     bmi  children smoker     region      charges\n",
       "0   19  female  27.900         0    yes  southwest  16884.92400\n",
       "1   18    male  33.770         1     no  southeast   1725.55230\n",
       "2   28    male  33.000         3     no  southeast   4449.46200\n",
       "3   33    male  22.705         0     no  northwest  21984.47061\n",
       "4   32    male  28.880         0     no  northwest   3866.85520"
      ]
     },
     "execution_count": 2,
     "metadata": {},
     "output_type": "execute_result"
    }
   ],
   "source": [
    "df = pd.read_csv(\"insurance.csv\")\n",
    "df.head()"
   ]
  },
  {
   "cell_type": "markdown",
   "metadata": {},
   "source": [
    "## Create Training and Test Sets"
   ]
  },
  {
   "cell_type": "code",
   "execution_count": 3,
   "metadata": {},
   "outputs": [
    {
     "name": "stdout",
     "output_type": "stream",
     "text": [
      "(1079, 7)\n",
      "(259, 7)\n"
     ]
    }
   ],
   "source": [
    "mask = np.random.rand(len(df)) < 0.8\n",
    "\n",
    "training_set = df[mask]\n",
    "\n",
    "testing_set = df[~mask]\n",
    "\n",
    "print(training_set.shape)\n",
    "print(testing_set.shape)"
   ]
  },
  {
   "cell_type": "code",
   "execution_count": 5,
   "metadata": {},
   "outputs": [],
   "source": [
    "# save training and test sets to be used later\n",
    "training_set.to_csv(\"training_set.csv\")\n",
    "testing_set.to_csv(\"testing_set.csv\")"
   ]
  },
  {
   "cell_type": "code",
   "execution_count": 6,
   "metadata": {},
   "outputs": [],
   "source": [
    "# separating the feature columns from the target column\n",
    "feature_columns = [\"age\", \"sex\", \"bmi\", \"children\", \"smoker\", \"region\"]\n",
    "target_column = \"charges\"\n",
    "\n",
    "X_train = training_set[feature_columns]\n",
    "y_train = training_set[target_column]\n",
    "\n",
    "X_test = testing_set[feature_columns]\n",
    "y_test = testing_set[target_column]"
   ]
  },
  {
   "cell_type": "markdown",
   "metadata": {},
   "source": [
    "## Apply the Preprocessing\n"
   ]
  },
  {
   "cell_type": "code",
   "execution_count": 7,
   "metadata": {},
   "outputs": [],
   "source": [
    "# loading the preprocessing pipeline we built in the previous notebook\n",
    "transformer = joblib.load(\"transformer.joblib\")"
   ]
  },
  {
   "cell_type": "code",
   "execution_count": 8,
   "metadata": {},
   "outputs": [
    {
     "data": {
      "text/plain": [
       "array([[19.  , 27.9 ,  0.  , ...,  1.  ,  0.  ,  3.  ],\n",
       "       [18.  , 33.77,  1.  , ...,  0.  ,  1.  ,  2.  ],\n",
       "       [28.  , 33.  ,  3.  , ...,  0.  ,  1.  ,  2.  ],\n",
       "       ...,\n",
       "       [18.  , 36.85,  0.  , ...,  0.  ,  0.  ,  2.  ],\n",
       "       [21.  , 25.8 ,  0.  , ...,  0.  ,  0.  ,  3.  ],\n",
       "       [61.  , 29.07,  0.  , ...,  1.  ,  0.  ,  1.  ]])"
      ]
     },
     "execution_count": 8,
     "metadata": {},
     "output_type": "execute_result"
    }
   ],
   "source": [
    "# applying the column transformer\n",
    "features = transformer.fit_transform(X_train)\n",
    "\n",
    "features"
   ]
  },
  {
   "cell_type": "markdown",
   "metadata": {},
   "source": [
    "## Find an Optimal Pipeline"
   ]
  },
  {
   "cell_type": "code",
   "execution_count": 9,
   "metadata": {},
   "outputs": [],
   "source": [
    "tpot_regressor = TPOTRegressor(generations=50,\n",
    "                               population_size=50,\n",
    "                               random_state=42,\n",
    "                               cv=5,\n",
    "                               n_jobs=8,\n",
    "                               verbosity=2,\n",
    "                               early_stop=10)"
   ]
  },
  {
   "cell_type": "code",
   "execution_count": 10,
   "metadata": {},
   "outputs": [
    {
     "data": {
      "application/vnd.jupyter.widget-view+json": {
       "model_id": "",
       "version_major": 2,
       "version_minor": 0
      },
      "text/plain": [
       "Optimization Progress:   0%|          | 0/2550 [00:00<?, ?pipeline/s]"
      ]
     },
     "metadata": {},
     "output_type": "display_data"
    },
    {
     "name": "stderr",
     "output_type": "stream",
     "text": [
      "/Users/seydina/Desktop/regression-model/venv/lib/python3.11/site-packages/tpot/builtins/__init__.py:36: UserWarning: Warning: optional dependency `torch` is not available. - skipping import of NN models.\n",
      "  warnings.warn(\"Warning: optional dependency `torch` is not available. - skipping import of NN models.\")\n",
      "/Users/seydina/Desktop/regression-model/venv/lib/python3.11/site-packages/tpot/builtins/__init__.py:36: UserWarning: Warning: optional dependency `torch` is not available. - skipping import of NN models.\n",
      "  warnings.warn(\"Warning: optional dependency `torch` is not available. - skipping import of NN models.\")\n",
      "/Users/seydina/Desktop/regression-model/venv/lib/python3.11/site-packages/tpot/builtins/__init__.py:36: UserWarning: Warning: optional dependency `torch` is not available. - skipping import of NN models.\n",
      "  warnings.warn(\"Warning: optional dependency `torch` is not available. - skipping import of NN models.\")\n",
      "/Users/seydina/Desktop/regression-model/venv/lib/python3.11/site-packages/tpot/builtins/__init__.py:36: UserWarning: Warning: optional dependency `torch` is not available. - skipping import of NN models.\n",
      "  warnings.warn(\"Warning: optional dependency `torch` is not available. - skipping import of NN models.\")\n",
      "/Users/seydina/Desktop/regression-model/venv/lib/python3.11/site-packages/tpot/builtins/__init__.py:36: UserWarning: Warning: optional dependency `torch` is not available. - skipping import of NN models.\n",
      "  warnings.warn(\"Warning: optional dependency `torch` is not available. - skipping import of NN models.\")\n",
      "/Users/seydina/Desktop/regression-model/venv/lib/python3.11/site-packages/tpot/builtins/__init__.py:36: UserWarning: Warning: optional dependency `torch` is not available. - skipping import of NN models.\n",
      "  warnings.warn(\"Warning: optional dependency `torch` is not available. - skipping import of NN models.\")\n",
      "/Users/seydina/Desktop/regression-model/venv/lib/python3.11/site-packages/tpot/builtins/__init__.py:36: UserWarning: Warning: optional dependency `torch` is not available. - skipping import of NN models.\n",
      "  warnings.warn(\"Warning: optional dependency `torch` is not available. - skipping import of NN models.\")\n",
      "/Users/seydina/Desktop/regression-model/venv/lib/python3.11/site-packages/tpot/builtins/__init__.py:36: UserWarning: Warning: optional dependency `torch` is not available. - skipping import of NN models.\n",
      "  warnings.warn(\"Warning: optional dependency `torch` is not available. - skipping import of NN models.\")\n"
     ]
    },
    {
     "name": "stdout",
     "output_type": "stream",
     "text": [
      "\n",
      "Generation 1 - Current best internal CV score: -20607315.220001213\n",
      "\n",
      "Generation 2 - Current best internal CV score: -20607315.220001213\n",
      "\n",
      "Generation 3 - Current best internal CV score: -20607315.220001213\n",
      "\n",
      "Generation 4 - Current best internal CV score: -20607315.220001213\n",
      "\n",
      "Generation 5 - Current best internal CV score: -20378707.33926659\n",
      "\n",
      "Generation 6 - Current best internal CV score: -20378707.33926659\n",
      "\n",
      "Generation 7 - Current best internal CV score: -20378707.33926659\n",
      "\n",
      "Generation 8 - Current best internal CV score: -20378707.33926659\n",
      "\n",
      "Generation 9 - Current best internal CV score: -20362350.652015977\n",
      "\n",
      "Generation 10 - Current best internal CV score: -20362350.652015977\n",
      "\n",
      "Generation 11 - Current best internal CV score: -20362350.652015977\n",
      "\n",
      "Generation 12 - Current best internal CV score: -20362350.652015977\n",
      "\n",
      "Generation 13 - Current best internal CV score: -20362350.652015977\n",
      "\n",
      "Generation 14 - Current best internal CV score: -20362350.652015977\n",
      "\n",
      "Generation 15 - Current best internal CV score: -20299744.57908722\n",
      "\n",
      "Generation 16 - Current best internal CV score: -20299744.57908722\n",
      "\n",
      "Generation 17 - Current best internal CV score: -20299744.57908722\n",
      "\n",
      "Generation 18 - Current best internal CV score: -20299744.57908722\n",
      "\n",
      "Generation 19 - Current best internal CV score: -20299744.57908722\n",
      "\n",
      "Generation 20 - Current best internal CV score: -20299744.57908722\n",
      "\n",
      "Generation 21 - Current best internal CV score: -20299744.57908722\n",
      "\n",
      "Generation 22 - Current best internal CV score: -20299744.57908722\n",
      "\n",
      "Generation 23 - Current best internal CV score: -20299744.57908722\n",
      "\n",
      "Generation 24 - Current best internal CV score: -20266822.85690061\n",
      "\n",
      "Generation 25 - Current best internal CV score: -20266822.85690061\n",
      "\n",
      "Generation 26 - Current best internal CV score: -20266822.85690061\n",
      "\n",
      "Generation 27 - Current best internal CV score: -20191739.09878876\n",
      "\n",
      "Generation 28 - Current best internal CV score: -20191739.09878876\n",
      "\n",
      "Generation 29 - Current best internal CV score: -20191739.09878876\n",
      "\n",
      "Generation 30 - Current best internal CV score: -20191739.09878876\n",
      "\n",
      "Generation 31 - Current best internal CV score: -20191739.09878876\n",
      "\n",
      "Generation 32 - Current best internal CV score: -20191739.09878876\n",
      "\n",
      "Generation 33 - Current best internal CV score: -20191739.09878876\n",
      "\n",
      "Generation 34 - Current best internal CV score: -20160939.15825633\n",
      "\n",
      "Generation 35 - Current best internal CV score: -20160939.15825633\n",
      "\n",
      "Generation 36 - Current best internal CV score: -20160939.15825633\n",
      "\n",
      "Generation 37 - Current best internal CV score: -20160939.15825633\n",
      "\n",
      "Generation 38 - Current best internal CV score: -20063879.084036414\n",
      "\n",
      "Generation 39 - Current best internal CV score: -20063879.084036414\n",
      "\n",
      "Generation 40 - Current best internal CV score: -20062665.439862173\n",
      "\n",
      "Generation 41 - Current best internal CV score: -19940824.423159834\n",
      "\n",
      "Generation 42 - Current best internal CV score: -19940824.423159834\n",
      "\n",
      "Generation 43 - Current best internal CV score: -19940824.423159834\n",
      "\n",
      "Generation 44 - Current best internal CV score: -19940824.423159834\n",
      "\n",
      "Generation 45 - Current best internal CV score: -19940824.423159834\n",
      "\n",
      "Generation 46 - Current best internal CV score: -19921676.762890674\n",
      "\n",
      "Generation 47 - Current best internal CV score: -19921676.762890674\n",
      "\n",
      "Generation 48 - Current best internal CV score: -19921676.762890674\n",
      "\n",
      "Generation 49 - Current best internal CV score: -19921676.762890674\n",
      "\n",
      "Generation 50 - Current best internal CV score: -19921676.762890674\n",
      "\n",
      "Best pipeline: ExtraTreesRegressor(XGBRegressor(input_matrix, learning_rate=0.01, max_depth=3, min_child_weight=2, n_estimators=100, n_jobs=1, objective=reg:squarederror, subsample=0.9000000000000001, verbosity=0), bootstrap=False, max_features=0.7000000000000001, min_samples_leaf=14, min_samples_split=6, n_estimators=100)\n"
     ]
    }
   ],
   "source": [
    "tpot_regressor = tpot_regressor.fit(features, y_train)"
   ]
  },
  {
   "cell_type": "markdown",
   "metadata": {},
   "source": [
    "## Create Pipeline\n",
    "\n",
    "Now that we have an optimal pipeline created by TPOT we will be adding our own preprocessors to it. To do this we'll need to have an unfitted pipeline object.\n",
    "\n",
    "To create an unfitted pipeline from the fitted pipeline that we already have, we'll clone the pipeline object:"
   ]
  },
  {
   "cell_type": "code",
   "execution_count": 11,
   "metadata": {},
   "outputs": [
    {
     "data": {
      "text/html": [
       "<style>#sk-container-id-1 {color: black;}#sk-container-id-1 pre{padding: 0;}#sk-container-id-1 div.sk-toggleable {background-color: white;}#sk-container-id-1 label.sk-toggleable__label {cursor: pointer;display: block;width: 100%;margin-bottom: 0;padding: 0.3em;box-sizing: border-box;text-align: center;}#sk-container-id-1 label.sk-toggleable__label-arrow:before {content: \"▸\";float: left;margin-right: 0.25em;color: #696969;}#sk-container-id-1 label.sk-toggleable__label-arrow:hover:before {color: black;}#sk-container-id-1 div.sk-estimator:hover label.sk-toggleable__label-arrow:before {color: black;}#sk-container-id-1 div.sk-toggleable__content {max-height: 0;max-width: 0;overflow: hidden;text-align: left;background-color: #f0f8ff;}#sk-container-id-1 div.sk-toggleable__content pre {margin: 0.2em;color: black;border-radius: 0.25em;background-color: #f0f8ff;}#sk-container-id-1 input.sk-toggleable__control:checked~div.sk-toggleable__content {max-height: 200px;max-width: 100%;overflow: auto;}#sk-container-id-1 input.sk-toggleable__control:checked~label.sk-toggleable__label-arrow:before {content: \"▾\";}#sk-container-id-1 div.sk-estimator input.sk-toggleable__control:checked~label.sk-toggleable__label {background-color: #d4ebff;}#sk-container-id-1 div.sk-label input.sk-toggleable__control:checked~label.sk-toggleable__label {background-color: #d4ebff;}#sk-container-id-1 input.sk-hidden--visually {border: 0;clip: rect(1px 1px 1px 1px);clip: rect(1px, 1px, 1px, 1px);height: 1px;margin: -1px;overflow: hidden;padding: 0;position: absolute;width: 1px;}#sk-container-id-1 div.sk-estimator {font-family: monospace;background-color: #f0f8ff;border: 1px dotted black;border-radius: 0.25em;box-sizing: border-box;margin-bottom: 0.5em;}#sk-container-id-1 div.sk-estimator:hover {background-color: #d4ebff;}#sk-container-id-1 div.sk-parallel-item::after {content: \"\";width: 100%;border-bottom: 1px solid gray;flex-grow: 1;}#sk-container-id-1 div.sk-label:hover label.sk-toggleable__label {background-color: #d4ebff;}#sk-container-id-1 div.sk-serial::before {content: \"\";position: absolute;border-left: 1px solid gray;box-sizing: border-box;top: 0;bottom: 0;left: 50%;z-index: 0;}#sk-container-id-1 div.sk-serial {display: flex;flex-direction: column;align-items: center;background-color: white;padding-right: 0.2em;padding-left: 0.2em;position: relative;}#sk-container-id-1 div.sk-item {position: relative;z-index: 1;}#sk-container-id-1 div.sk-parallel {display: flex;align-items: stretch;justify-content: center;background-color: white;position: relative;}#sk-container-id-1 div.sk-item::before, #sk-container-id-1 div.sk-parallel-item::before {content: \"\";position: absolute;border-left: 1px solid gray;box-sizing: border-box;top: 0;bottom: 0;left: 50%;z-index: -1;}#sk-container-id-1 div.sk-parallel-item {display: flex;flex-direction: column;z-index: 1;position: relative;background-color: white;}#sk-container-id-1 div.sk-parallel-item:first-child::after {align-self: flex-end;width: 50%;}#sk-container-id-1 div.sk-parallel-item:last-child::after {align-self: flex-start;width: 50%;}#sk-container-id-1 div.sk-parallel-item:only-child::after {width: 0;}#sk-container-id-1 div.sk-dashed-wrapped {border: 1px dashed gray;margin: 0 0.4em 0.5em 0.4em;box-sizing: border-box;padding-bottom: 0.4em;background-color: white;}#sk-container-id-1 div.sk-label label {font-family: monospace;font-weight: bold;display: inline-block;line-height: 1.2em;}#sk-container-id-1 div.sk-label-container {text-align: center;}#sk-container-id-1 div.sk-container {/* jupyter's `normalize.less` sets `[hidden] { display: none; }` but bootstrap.min.css set `[hidden] { display: none !important; }` so we also need the `!important` here to be able to override the default hidden behavior on the sphinx rendered scikit-learn.org. See: https://github.com/scikit-learn/scikit-learn/issues/21755 */display: inline-block !important;position: relative;}#sk-container-id-1 div.sk-text-repr-fallback {display: none;}</style><div id=\"sk-container-id-1\" class=\"sk-top-container\"><div class=\"sk-text-repr-fallback\"><pre>Pipeline(steps=[(&#x27;stackingestimator&#x27;,\n",
       "                 StackingEstimator(estimator=XGBRegressor(base_score=None,\n",
       "                                                          booster=None,\n",
       "                                                          callbacks=None,\n",
       "                                                          colsample_bylevel=None,\n",
       "                                                          colsample_bynode=None,\n",
       "                                                          colsample_bytree=None,\n",
       "                                                          device=None,\n",
       "                                                          early_stopping_rounds=None,\n",
       "                                                          enable_categorical=False,\n",
       "                                                          eval_metric=None,\n",
       "                                                          feature_types=None,\n",
       "                                                          gamma=None,\n",
       "                                                          grow_policy=None,\n",
       "                                                          importance_type=None,\n",
       "                                                          interaction_...\n",
       "                                                          max_cat_to_onehot=None,\n",
       "                                                          max_delta_step=None,\n",
       "                                                          max_depth=3,\n",
       "                                                          max_leaves=None,\n",
       "                                                          min_child_weight=2,\n",
       "                                                          missing=nan,\n",
       "                                                          monotone_constraints=None,\n",
       "                                                          multi_strategy=None,\n",
       "                                                          n_estimators=100,\n",
       "                                                          n_jobs=1,\n",
       "                                                          num_parallel_tree=None,\n",
       "                                                          random_state=42, ...))),\n",
       "                (&#x27;extratreesregressor&#x27;,\n",
       "                 ExtraTreesRegressor(max_features=0.7000000000000001,\n",
       "                                     min_samples_leaf=14, min_samples_split=6,\n",
       "                                     random_state=42))])</pre><b>In a Jupyter environment, please rerun this cell to show the HTML representation or trust the notebook. <br />On GitHub, the HTML representation is unable to render, please try loading this page with nbviewer.org.</b></div><div class=\"sk-container\" hidden><div class=\"sk-item sk-dashed-wrapped\"><div class=\"sk-label-container\"><div class=\"sk-label sk-toggleable\"><input class=\"sk-toggleable__control sk-hidden--visually\" id=\"sk-estimator-id-1\" type=\"checkbox\" ><label for=\"sk-estimator-id-1\" class=\"sk-toggleable__label sk-toggleable__label-arrow\">Pipeline</label><div class=\"sk-toggleable__content\"><pre>Pipeline(steps=[(&#x27;stackingestimator&#x27;,\n",
       "                 StackingEstimator(estimator=XGBRegressor(base_score=None,\n",
       "                                                          booster=None,\n",
       "                                                          callbacks=None,\n",
       "                                                          colsample_bylevel=None,\n",
       "                                                          colsample_bynode=None,\n",
       "                                                          colsample_bytree=None,\n",
       "                                                          device=None,\n",
       "                                                          early_stopping_rounds=None,\n",
       "                                                          enable_categorical=False,\n",
       "                                                          eval_metric=None,\n",
       "                                                          feature_types=None,\n",
       "                                                          gamma=None,\n",
       "                                                          grow_policy=None,\n",
       "                                                          importance_type=None,\n",
       "                                                          interaction_...\n",
       "                                                          max_cat_to_onehot=None,\n",
       "                                                          max_delta_step=None,\n",
       "                                                          max_depth=3,\n",
       "                                                          max_leaves=None,\n",
       "                                                          min_child_weight=2,\n",
       "                                                          missing=nan,\n",
       "                                                          monotone_constraints=None,\n",
       "                                                          multi_strategy=None,\n",
       "                                                          n_estimators=100,\n",
       "                                                          n_jobs=1,\n",
       "                                                          num_parallel_tree=None,\n",
       "                                                          random_state=42, ...))),\n",
       "                (&#x27;extratreesregressor&#x27;,\n",
       "                 ExtraTreesRegressor(max_features=0.7000000000000001,\n",
       "                                     min_samples_leaf=14, min_samples_split=6,\n",
       "                                     random_state=42))])</pre></div></div></div><div class=\"sk-serial\"><div class=\"sk-item sk-dashed-wrapped\"><div class=\"sk-label-container\"><div class=\"sk-label sk-toggleable\"><input class=\"sk-toggleable__control sk-hidden--visually\" id=\"sk-estimator-id-2\" type=\"checkbox\" ><label for=\"sk-estimator-id-2\" class=\"sk-toggleable__label sk-toggleable__label-arrow\">stackingestimator: StackingEstimator</label><div class=\"sk-toggleable__content\"><pre>StackingEstimator(estimator=XGBRegressor(base_score=None, booster=None,\n",
       "                                         callbacks=None, colsample_bylevel=None,\n",
       "                                         colsample_bynode=None,\n",
       "                                         colsample_bytree=None, device=None,\n",
       "                                         early_stopping_rounds=None,\n",
       "                                         enable_categorical=False,\n",
       "                                         eval_metric=None, feature_types=None,\n",
       "                                         gamma=None, grow_policy=None,\n",
       "                                         importance_type=None,\n",
       "                                         interaction_constraints=None,\n",
       "                                         learning_rate=0.01, max_bin=None,\n",
       "                                         max_cat_threshold=None,\n",
       "                                         max_cat_to_onehot=None,\n",
       "                                         max_delta_step=None, max_depth=3,\n",
       "                                         max_leaves=None, min_child_weight=2,\n",
       "                                         missing=nan, monotone_constraints=None,\n",
       "                                         multi_strategy=None, n_estimators=100,\n",
       "                                         n_jobs=1, num_parallel_tree=None,\n",
       "                                         random_state=42, ...))</pre></div></div></div><div class=\"sk-parallel\"><div class=\"sk-parallel-item\"><div class=\"sk-item\"><div class=\"sk-label-container\"><div class=\"sk-label sk-toggleable\"><input class=\"sk-toggleable__control sk-hidden--visually\" id=\"sk-estimator-id-3\" type=\"checkbox\" ><label for=\"sk-estimator-id-3\" class=\"sk-toggleable__label sk-toggleable__label-arrow\">estimator: XGBRegressor</label><div class=\"sk-toggleable__content\"><pre>XGBRegressor(base_score=None, booster=None, callbacks=None,\n",
       "             colsample_bylevel=None, colsample_bynode=None,\n",
       "             colsample_bytree=None, device=None, early_stopping_rounds=None,\n",
       "             enable_categorical=False, eval_metric=None, feature_types=None,\n",
       "             gamma=None, grow_policy=None, importance_type=None,\n",
       "             interaction_constraints=None, learning_rate=0.01, max_bin=None,\n",
       "             max_cat_threshold=None, max_cat_to_onehot=None,\n",
       "             max_delta_step=None, max_depth=3, max_leaves=None,\n",
       "             min_child_weight=2, missing=nan, monotone_constraints=None,\n",
       "             multi_strategy=None, n_estimators=100, n_jobs=1,\n",
       "             num_parallel_tree=None, random_state=42, ...)</pre></div></div></div><div class=\"sk-serial\"><div class=\"sk-item\"><div class=\"sk-estimator sk-toggleable\"><input class=\"sk-toggleable__control sk-hidden--visually\" id=\"sk-estimator-id-4\" type=\"checkbox\" ><label for=\"sk-estimator-id-4\" class=\"sk-toggleable__label sk-toggleable__label-arrow\">XGBRegressor</label><div class=\"sk-toggleable__content\"><pre>XGBRegressor(base_score=None, booster=None, callbacks=None,\n",
       "             colsample_bylevel=None, colsample_bynode=None,\n",
       "             colsample_bytree=None, device=None, early_stopping_rounds=None,\n",
       "             enable_categorical=False, eval_metric=None, feature_types=None,\n",
       "             gamma=None, grow_policy=None, importance_type=None,\n",
       "             interaction_constraints=None, learning_rate=0.01, max_bin=None,\n",
       "             max_cat_threshold=None, max_cat_to_onehot=None,\n",
       "             max_delta_step=None, max_depth=3, max_leaves=None,\n",
       "             min_child_weight=2, missing=nan, monotone_constraints=None,\n",
       "             multi_strategy=None, n_estimators=100, n_jobs=1,\n",
       "             num_parallel_tree=None, random_state=42, ...)</pre></div></div></div></div></div></div></div></div><div class=\"sk-item\"><div class=\"sk-estimator sk-toggleable\"><input class=\"sk-toggleable__control sk-hidden--visually\" id=\"sk-estimator-id-5\" type=\"checkbox\" ><label for=\"sk-estimator-id-5\" class=\"sk-toggleable__label sk-toggleable__label-arrow\">ExtraTreesRegressor</label><div class=\"sk-toggleable__content\"><pre>ExtraTreesRegressor(max_features=0.7000000000000001, min_samples_leaf=14,\n",
       "                    min_samples_split=6, random_state=42)</pre></div></div></div></div></div></div></div>"
      ],
      "text/plain": [
       "Pipeline(steps=[('stackingestimator',\n",
       "                 StackingEstimator(estimator=XGBRegressor(base_score=None,\n",
       "                                                          booster=None,\n",
       "                                                          callbacks=None,\n",
       "                                                          colsample_bylevel=None,\n",
       "                                                          colsample_bynode=None,\n",
       "                                                          colsample_bytree=None,\n",
       "                                                          device=None,\n",
       "                                                          early_stopping_rounds=None,\n",
       "                                                          enable_categorical=False,\n",
       "                                                          eval_metric=None,\n",
       "                                                          feature_types=None,\n",
       "                                                          gamma=None,\n",
       "                                                          grow_policy=None,\n",
       "                                                          importance_type=None,\n",
       "                                                          interaction_...\n",
       "                                                          max_cat_to_onehot=None,\n",
       "                                                          max_delta_step=None,\n",
       "                                                          max_depth=3,\n",
       "                                                          max_leaves=None,\n",
       "                                                          min_child_weight=2,\n",
       "                                                          missing=nan,\n",
       "                                                          monotone_constraints=None,\n",
       "                                                          multi_strategy=None,\n",
       "                                                          n_estimators=100,\n",
       "                                                          n_jobs=1,\n",
       "                                                          num_parallel_tree=None,\n",
       "                                                          random_state=42, ...))),\n",
       "                ('extratreesregressor',\n",
       "                 ExtraTreesRegressor(max_features=0.7000000000000001,\n",
       "                                     min_samples_leaf=14, min_samples_split=6,\n",
       "                                     random_state=42))])"
      ]
     },
     "execution_count": 11,
     "metadata": {},
     "output_type": "execute_result"
    }
   ],
   "source": [
    "unfitted_tpot_regressor = clone(tpot_regressor.fitted_pipeline_)\n",
    "\n",
    "unfitted_tpot_regressor"
   ]
  },
  {
   "cell_type": "markdown",
   "metadata": {},
   "source": [
    "Now that we can build the same pipeline that was found by the TPOT package, we'll add our own preprocessors to the pipeline. This will ensure that the final pipeline will accept the features in the original dataset and will process the features correctly.\n",
    "\n",
    "We'll compose the preprocessing pipeline and the tpot pipeline into one pipeline:"
   ]
  },
  {
   "cell_type": "code",
   "execution_count": 12,
   "metadata": {},
   "outputs": [],
   "source": [
    "model = Pipeline([\n",
    "    (\"transformer\", transformer),\n",
    "    (\"tpot_pipeline\", unfitted_tpot_regressor)\n",
    "])"
   ]
  },
  {
   "cell_type": "markdown",
   "metadata": {},
   "source": [
    "## Train Model"
   ]
  },
  {
   "cell_type": "code",
   "execution_count": 13,
   "metadata": {},
   "outputs": [
    {
     "data": {
      "text/html": [
       "<style>#sk-container-id-2 {color: black;}#sk-container-id-2 pre{padding: 0;}#sk-container-id-2 div.sk-toggleable {background-color: white;}#sk-container-id-2 label.sk-toggleable__label {cursor: pointer;display: block;width: 100%;margin-bottom: 0;padding: 0.3em;box-sizing: border-box;text-align: center;}#sk-container-id-2 label.sk-toggleable__label-arrow:before {content: \"▸\";float: left;margin-right: 0.25em;color: #696969;}#sk-container-id-2 label.sk-toggleable__label-arrow:hover:before {color: black;}#sk-container-id-2 div.sk-estimator:hover label.sk-toggleable__label-arrow:before {color: black;}#sk-container-id-2 div.sk-toggleable__content {max-height: 0;max-width: 0;overflow: hidden;text-align: left;background-color: #f0f8ff;}#sk-container-id-2 div.sk-toggleable__content pre {margin: 0.2em;color: black;border-radius: 0.25em;background-color: #f0f8ff;}#sk-container-id-2 input.sk-toggleable__control:checked~div.sk-toggleable__content {max-height: 200px;max-width: 100%;overflow: auto;}#sk-container-id-2 input.sk-toggleable__control:checked~label.sk-toggleable__label-arrow:before {content: \"▾\";}#sk-container-id-2 div.sk-estimator input.sk-toggleable__control:checked~label.sk-toggleable__label {background-color: #d4ebff;}#sk-container-id-2 div.sk-label input.sk-toggleable__control:checked~label.sk-toggleable__label {background-color: #d4ebff;}#sk-container-id-2 input.sk-hidden--visually {border: 0;clip: rect(1px 1px 1px 1px);clip: rect(1px, 1px, 1px, 1px);height: 1px;margin: -1px;overflow: hidden;padding: 0;position: absolute;width: 1px;}#sk-container-id-2 div.sk-estimator {font-family: monospace;background-color: #f0f8ff;border: 1px dotted black;border-radius: 0.25em;box-sizing: border-box;margin-bottom: 0.5em;}#sk-container-id-2 div.sk-estimator:hover {background-color: #d4ebff;}#sk-container-id-2 div.sk-parallel-item::after {content: \"\";width: 100%;border-bottom: 1px solid gray;flex-grow: 1;}#sk-container-id-2 div.sk-label:hover label.sk-toggleable__label {background-color: #d4ebff;}#sk-container-id-2 div.sk-serial::before {content: \"\";position: absolute;border-left: 1px solid gray;box-sizing: border-box;top: 0;bottom: 0;left: 50%;z-index: 0;}#sk-container-id-2 div.sk-serial {display: flex;flex-direction: column;align-items: center;background-color: white;padding-right: 0.2em;padding-left: 0.2em;position: relative;}#sk-container-id-2 div.sk-item {position: relative;z-index: 1;}#sk-container-id-2 div.sk-parallel {display: flex;align-items: stretch;justify-content: center;background-color: white;position: relative;}#sk-container-id-2 div.sk-item::before, #sk-container-id-2 div.sk-parallel-item::before {content: \"\";position: absolute;border-left: 1px solid gray;box-sizing: border-box;top: 0;bottom: 0;left: 50%;z-index: -1;}#sk-container-id-2 div.sk-parallel-item {display: flex;flex-direction: column;z-index: 1;position: relative;background-color: white;}#sk-container-id-2 div.sk-parallel-item:first-child::after {align-self: flex-end;width: 50%;}#sk-container-id-2 div.sk-parallel-item:last-child::after {align-self: flex-start;width: 50%;}#sk-container-id-2 div.sk-parallel-item:only-child::after {width: 0;}#sk-container-id-2 div.sk-dashed-wrapped {border: 1px dashed gray;margin: 0 0.4em 0.5em 0.4em;box-sizing: border-box;padding-bottom: 0.4em;background-color: white;}#sk-container-id-2 div.sk-label label {font-family: monospace;font-weight: bold;display: inline-block;line-height: 1.2em;}#sk-container-id-2 div.sk-label-container {text-align: center;}#sk-container-id-2 div.sk-container {/* jupyter's `normalize.less` sets `[hidden] { display: none; }` but bootstrap.min.css set `[hidden] { display: none !important; }` so we also need the `!important` here to be able to override the default hidden behavior on the sphinx rendered scikit-learn.org. See: https://github.com/scikit-learn/scikit-learn/issues/21755 */display: inline-block !important;position: relative;}#sk-container-id-2 div.sk-text-repr-fallback {display: none;}</style><div id=\"sk-container-id-2\" class=\"sk-top-container\"><div class=\"sk-text-repr-fallback\"><pre>Pipeline(steps=[(&#x27;transformer&#x27;,\n",
       "                 ColumnTransformer(remainder=&#x27;passthrough&#x27;,\n",
       "                                   transformers=[(&#x27;dfs_pipeline&#x27;,\n",
       "                                                  Pipeline(steps=[(&#x27;dfs_transformer&#x27;,\n",
       "                                                                   DFSTransformer(ignore_variables={&#x27;Transactions&#x27;: [&#x27;sex&#x27;,\n",
       "                                                                                                                     &#x27;smoker&#x27;,\n",
       "                                                                                                                     &#x27;region&#x27;]},\n",
       "                                                                                  target_entity=&#x27;Transactions&#x27;,\n",
       "                                                                                  trans_primitives=[&#x27;add_numeric&#x27;,\n",
       "                                                                                                    &#x27;subtract_numeric&#x27;,\n",
       "                                                                                                    &#x27;multiply_numeric&#x27;,\n",
       "                                                                                                    &#x27;divide_numeric&#x27;,\n",
       "                                                                                                    &#x27;greater_than&#x27;,\n",
       "                                                                                                    &#x27;less_...\n",
       "                                                                           max_cat_to_onehot=None,\n",
       "                                                                           max_delta_step=None,\n",
       "                                                                           max_depth=3,\n",
       "                                                                           max_leaves=None,\n",
       "                                                                           min_child_weight=2,\n",
       "                                                                           missing=nan,\n",
       "                                                                           monotone_constraints=None,\n",
       "                                                                           multi_strategy=None,\n",
       "                                                                           n_estimators=100,\n",
       "                                                                           n_jobs=1,\n",
       "                                                                           num_parallel_tree=None,\n",
       "                                                                           random_state=42, ...))),\n",
       "                                 (&#x27;extratreesregressor&#x27;,\n",
       "                                  ExtraTreesRegressor(max_features=0.7000000000000001,\n",
       "                                                      min_samples_leaf=14,\n",
       "                                                      min_samples_split=6,\n",
       "                                                      random_state=42))]))])</pre><b>In a Jupyter environment, please rerun this cell to show the HTML representation or trust the notebook. <br />On GitHub, the HTML representation is unable to render, please try loading this page with nbviewer.org.</b></div><div class=\"sk-container\" hidden><div class=\"sk-item sk-dashed-wrapped\"><div class=\"sk-label-container\"><div class=\"sk-label sk-toggleable\"><input class=\"sk-toggleable__control sk-hidden--visually\" id=\"sk-estimator-id-6\" type=\"checkbox\" ><label for=\"sk-estimator-id-6\" class=\"sk-toggleable__label sk-toggleable__label-arrow\">Pipeline</label><div class=\"sk-toggleable__content\"><pre>Pipeline(steps=[(&#x27;transformer&#x27;,\n",
       "                 ColumnTransformer(remainder=&#x27;passthrough&#x27;,\n",
       "                                   transformers=[(&#x27;dfs_pipeline&#x27;,\n",
       "                                                  Pipeline(steps=[(&#x27;dfs_transformer&#x27;,\n",
       "                                                                   DFSTransformer(ignore_variables={&#x27;Transactions&#x27;: [&#x27;sex&#x27;,\n",
       "                                                                                                                     &#x27;smoker&#x27;,\n",
       "                                                                                                                     &#x27;region&#x27;]},\n",
       "                                                                                  target_entity=&#x27;Transactions&#x27;,\n",
       "                                                                                  trans_primitives=[&#x27;add_numeric&#x27;,\n",
       "                                                                                                    &#x27;subtract_numeric&#x27;,\n",
       "                                                                                                    &#x27;multiply_numeric&#x27;,\n",
       "                                                                                                    &#x27;divide_numeric&#x27;,\n",
       "                                                                                                    &#x27;greater_than&#x27;,\n",
       "                                                                                                    &#x27;less_...\n",
       "                                                                           max_cat_to_onehot=None,\n",
       "                                                                           max_delta_step=None,\n",
       "                                                                           max_depth=3,\n",
       "                                                                           max_leaves=None,\n",
       "                                                                           min_child_weight=2,\n",
       "                                                                           missing=nan,\n",
       "                                                                           monotone_constraints=None,\n",
       "                                                                           multi_strategy=None,\n",
       "                                                                           n_estimators=100,\n",
       "                                                                           n_jobs=1,\n",
       "                                                                           num_parallel_tree=None,\n",
       "                                                                           random_state=42, ...))),\n",
       "                                 (&#x27;extratreesregressor&#x27;,\n",
       "                                  ExtraTreesRegressor(max_features=0.7000000000000001,\n",
       "                                                      min_samples_leaf=14,\n",
       "                                                      min_samples_split=6,\n",
       "                                                      random_state=42))]))])</pre></div></div></div><div class=\"sk-serial\"><div class=\"sk-item sk-dashed-wrapped\"><div class=\"sk-label-container\"><div class=\"sk-label sk-toggleable\"><input class=\"sk-toggleable__control sk-hidden--visually\" id=\"sk-estimator-id-7\" type=\"checkbox\" ><label for=\"sk-estimator-id-7\" class=\"sk-toggleable__label sk-toggleable__label-arrow\">transformer: ColumnTransformer</label><div class=\"sk-toggleable__content\"><pre>ColumnTransformer(remainder=&#x27;passthrough&#x27;,\n",
       "                  transformers=[(&#x27;dfs_pipeline&#x27;,\n",
       "                                 Pipeline(steps=[(&#x27;dfs_transformer&#x27;,\n",
       "                                                  DFSTransformer(ignore_variables={&#x27;Transactions&#x27;: [&#x27;sex&#x27;,\n",
       "                                                                                                    &#x27;smoker&#x27;,\n",
       "                                                                                                    &#x27;region&#x27;]},\n",
       "                                                                 target_entity=&#x27;Transactions&#x27;,\n",
       "                                                                 trans_primitives=[&#x27;add_numeric&#x27;,\n",
       "                                                                                   &#x27;subtract_numeric&#x27;,\n",
       "                                                                                   &#x27;multiply_numeric&#x27;,\n",
       "                                                                                   &#x27;divide_numeric&#x27;,\n",
       "                                                                                   &#x27;greater_than&#x27;,\n",
       "                                                                                   &#x27;less_than&#x27;])),\n",
       "                                                 (&#x27;int_to_float_transformer&#x27;,\n",
       "                                                  IntToFloatTransformer()),\n",
       "                                                 (&#x27;infinity_transformer&#x27;,\n",
       "                                                  InfinityToNaNTransformer()),\n",
       "                                                 (&#x27;simple_imputer&#x27;,\n",
       "                                                  SimpleImputer())]),\n",
       "                                 [&#x27;age&#x27;, &#x27;sex&#x27;, &#x27;bmi&#x27;, &#x27;children&#x27;, &#x27;smoker&#x27;,\n",
       "                                  &#x27;region&#x27;]),\n",
       "                                (&#x27;boolean_transformer&#x27;, BooleanTransformer(),\n",
       "                                 [&#x27;smoker&#x27;]),\n",
       "                                (&#x27;ordinal_encoder&#x27;, OrdinalEncoder(),\n",
       "                                 [&#x27;sex&#x27;, &#x27;region&#x27;])])</pre></div></div></div><div class=\"sk-parallel\"><div class=\"sk-parallel-item\"><div class=\"sk-item\"><div class=\"sk-label-container\"><div class=\"sk-label sk-toggleable\"><input class=\"sk-toggleable__control sk-hidden--visually\" id=\"sk-estimator-id-8\" type=\"checkbox\" ><label for=\"sk-estimator-id-8\" class=\"sk-toggleable__label sk-toggleable__label-arrow\">dfs_pipeline</label><div class=\"sk-toggleable__content\"><pre>[&#x27;age&#x27;, &#x27;sex&#x27;, &#x27;bmi&#x27;, &#x27;children&#x27;, &#x27;smoker&#x27;, &#x27;region&#x27;]</pre></div></div></div><div class=\"sk-serial\"><div class=\"sk-item\"><div class=\"sk-serial\"><div class=\"sk-item\"><div class=\"sk-estimator sk-toggleable\"><input class=\"sk-toggleable__control sk-hidden--visually\" id=\"sk-estimator-id-9\" type=\"checkbox\" ><label for=\"sk-estimator-id-9\" class=\"sk-toggleable__label sk-toggleable__label-arrow\">DFSTransformer</label><div class=\"sk-toggleable__content\"><pre>DFSTransformer(ignore_variables={&#x27;Transactions&#x27;: [&#x27;sex&#x27;, &#x27;smoker&#x27;, &#x27;region&#x27;]},\n",
       "               target_entity=&#x27;Transactions&#x27;,\n",
       "               trans_primitives=[&#x27;add_numeric&#x27;, &#x27;subtract_numeric&#x27;,\n",
       "                                 &#x27;multiply_numeric&#x27;, &#x27;divide_numeric&#x27;,\n",
       "                                 &#x27;greater_than&#x27;, &#x27;less_than&#x27;])</pre></div></div></div><div class=\"sk-item\"><div class=\"sk-estimator sk-toggleable\"><input class=\"sk-toggleable__control sk-hidden--visually\" id=\"sk-estimator-id-10\" type=\"checkbox\" ><label for=\"sk-estimator-id-10\" class=\"sk-toggleable__label sk-toggleable__label-arrow\">IntToFloatTransformer</label><div class=\"sk-toggleable__content\"><pre>IntToFloatTransformer()</pre></div></div></div><div class=\"sk-item\"><div class=\"sk-estimator sk-toggleable\"><input class=\"sk-toggleable__control sk-hidden--visually\" id=\"sk-estimator-id-11\" type=\"checkbox\" ><label for=\"sk-estimator-id-11\" class=\"sk-toggleable__label sk-toggleable__label-arrow\">InfinityToNaNTransformer</label><div class=\"sk-toggleable__content\"><pre>InfinityToNaNTransformer()</pre></div></div></div><div class=\"sk-item\"><div class=\"sk-estimator sk-toggleable\"><input class=\"sk-toggleable__control sk-hidden--visually\" id=\"sk-estimator-id-12\" type=\"checkbox\" ><label for=\"sk-estimator-id-12\" class=\"sk-toggleable__label sk-toggleable__label-arrow\">SimpleImputer</label><div class=\"sk-toggleable__content\"><pre>SimpleImputer()</pre></div></div></div></div></div></div></div></div><div class=\"sk-parallel-item\"><div class=\"sk-item\"><div class=\"sk-label-container\"><div class=\"sk-label sk-toggleable\"><input class=\"sk-toggleable__control sk-hidden--visually\" id=\"sk-estimator-id-13\" type=\"checkbox\" ><label for=\"sk-estimator-id-13\" class=\"sk-toggleable__label sk-toggleable__label-arrow\">boolean_transformer</label><div class=\"sk-toggleable__content\"><pre>[&#x27;smoker&#x27;]</pre></div></div></div><div class=\"sk-serial\"><div class=\"sk-item\"><div class=\"sk-estimator sk-toggleable\"><input class=\"sk-toggleable__control sk-hidden--visually\" id=\"sk-estimator-id-14\" type=\"checkbox\" ><label for=\"sk-estimator-id-14\" class=\"sk-toggleable__label sk-toggleable__label-arrow\">BooleanTransformer</label><div class=\"sk-toggleable__content\"><pre>BooleanTransformer()</pre></div></div></div></div></div></div><div class=\"sk-parallel-item\"><div class=\"sk-item\"><div class=\"sk-label-container\"><div class=\"sk-label sk-toggleable\"><input class=\"sk-toggleable__control sk-hidden--visually\" id=\"sk-estimator-id-15\" type=\"checkbox\" ><label for=\"sk-estimator-id-15\" class=\"sk-toggleable__label sk-toggleable__label-arrow\">ordinal_encoder</label><div class=\"sk-toggleable__content\"><pre>[&#x27;sex&#x27;, &#x27;region&#x27;]</pre></div></div></div><div class=\"sk-serial\"><div class=\"sk-item\"><div class=\"sk-estimator sk-toggleable\"><input class=\"sk-toggleable__control sk-hidden--visually\" id=\"sk-estimator-id-16\" type=\"checkbox\" ><label for=\"sk-estimator-id-16\" class=\"sk-toggleable__label sk-toggleable__label-arrow\">OrdinalEncoder</label><div class=\"sk-toggleable__content\"><pre>OrdinalEncoder()</pre></div></div></div></div></div></div><div class=\"sk-parallel-item\"><div class=\"sk-item\"><div class=\"sk-label-container\"><div class=\"sk-label sk-toggleable\"><input class=\"sk-toggleable__control sk-hidden--visually\" id=\"sk-estimator-id-17\" type=\"checkbox\" ><label for=\"sk-estimator-id-17\" class=\"sk-toggleable__label sk-toggleable__label-arrow\">remainder</label><div class=\"sk-toggleable__content\"><pre>[]</pre></div></div></div><div class=\"sk-serial\"><div class=\"sk-item\"><div class=\"sk-estimator sk-toggleable\"><input class=\"sk-toggleable__control sk-hidden--visually\" id=\"sk-estimator-id-18\" type=\"checkbox\" ><label for=\"sk-estimator-id-18\" class=\"sk-toggleable__label sk-toggleable__label-arrow\">passthrough</label><div class=\"sk-toggleable__content\"><pre>passthrough</pre></div></div></div></div></div></div></div></div><div class=\"sk-item\"><div class=\"sk-label-container\"><div class=\"sk-label sk-toggleable\"><input class=\"sk-toggleable__control sk-hidden--visually\" id=\"sk-estimator-id-19\" type=\"checkbox\" ><label for=\"sk-estimator-id-19\" class=\"sk-toggleable__label sk-toggleable__label-arrow\">tpot_pipeline: Pipeline</label><div class=\"sk-toggleable__content\"><pre>Pipeline(steps=[(&#x27;stackingestimator&#x27;,\n",
       "                 StackingEstimator(estimator=XGBRegressor(base_score=None,\n",
       "                                                          booster=None,\n",
       "                                                          callbacks=None,\n",
       "                                                          colsample_bylevel=None,\n",
       "                                                          colsample_bynode=None,\n",
       "                                                          colsample_bytree=None,\n",
       "                                                          device=None,\n",
       "                                                          early_stopping_rounds=None,\n",
       "                                                          enable_categorical=False,\n",
       "                                                          eval_metric=None,\n",
       "                                                          feature_types=None,\n",
       "                                                          gamma=None,\n",
       "                                                          grow_policy=None,\n",
       "                                                          importance_type=None,\n",
       "                                                          interaction_...\n",
       "                                                          max_cat_to_onehot=None,\n",
       "                                                          max_delta_step=None,\n",
       "                                                          max_depth=3,\n",
       "                                                          max_leaves=None,\n",
       "                                                          min_child_weight=2,\n",
       "                                                          missing=nan,\n",
       "                                                          monotone_constraints=None,\n",
       "                                                          multi_strategy=None,\n",
       "                                                          n_estimators=100,\n",
       "                                                          n_jobs=1,\n",
       "                                                          num_parallel_tree=None,\n",
       "                                                          random_state=42, ...))),\n",
       "                (&#x27;extratreesregressor&#x27;,\n",
       "                 ExtraTreesRegressor(max_features=0.7000000000000001,\n",
       "                                     min_samples_leaf=14, min_samples_split=6,\n",
       "                                     random_state=42))])</pre></div></div></div><div class=\"sk-serial\"><div class=\"sk-item sk-dashed-wrapped\"><div class=\"sk-label-container\"><div class=\"sk-label sk-toggleable\"><input class=\"sk-toggleable__control sk-hidden--visually\" id=\"sk-estimator-id-20\" type=\"checkbox\" ><label for=\"sk-estimator-id-20\" class=\"sk-toggleable__label sk-toggleable__label-arrow\">stackingestimator: StackingEstimator</label><div class=\"sk-toggleable__content\"><pre>StackingEstimator(estimator=XGBRegressor(base_score=None, booster=None,\n",
       "                                         callbacks=None, colsample_bylevel=None,\n",
       "                                         colsample_bynode=None,\n",
       "                                         colsample_bytree=None, device=None,\n",
       "                                         early_stopping_rounds=None,\n",
       "                                         enable_categorical=False,\n",
       "                                         eval_metric=None, feature_types=None,\n",
       "                                         gamma=None, grow_policy=None,\n",
       "                                         importance_type=None,\n",
       "                                         interaction_constraints=None,\n",
       "                                         learning_rate=0.01, max_bin=None,\n",
       "                                         max_cat_threshold=None,\n",
       "                                         max_cat_to_onehot=None,\n",
       "                                         max_delta_step=None, max_depth=3,\n",
       "                                         max_leaves=None, min_child_weight=2,\n",
       "                                         missing=nan, monotone_constraints=None,\n",
       "                                         multi_strategy=None, n_estimators=100,\n",
       "                                         n_jobs=1, num_parallel_tree=None,\n",
       "                                         random_state=42, ...))</pre></div></div></div><div class=\"sk-parallel\"><div class=\"sk-parallel-item\"><div class=\"sk-item\"><div class=\"sk-label-container\"><div class=\"sk-label sk-toggleable\"><input class=\"sk-toggleable__control sk-hidden--visually\" id=\"sk-estimator-id-21\" type=\"checkbox\" ><label for=\"sk-estimator-id-21\" class=\"sk-toggleable__label sk-toggleable__label-arrow\">estimator: XGBRegressor</label><div class=\"sk-toggleable__content\"><pre>XGBRegressor(base_score=None, booster=None, callbacks=None,\n",
       "             colsample_bylevel=None, colsample_bynode=None,\n",
       "             colsample_bytree=None, device=None, early_stopping_rounds=None,\n",
       "             enable_categorical=False, eval_metric=None, feature_types=None,\n",
       "             gamma=None, grow_policy=None, importance_type=None,\n",
       "             interaction_constraints=None, learning_rate=0.01, max_bin=None,\n",
       "             max_cat_threshold=None, max_cat_to_onehot=None,\n",
       "             max_delta_step=None, max_depth=3, max_leaves=None,\n",
       "             min_child_weight=2, missing=nan, monotone_constraints=None,\n",
       "             multi_strategy=None, n_estimators=100, n_jobs=1,\n",
       "             num_parallel_tree=None, random_state=42, ...)</pre></div></div></div><div class=\"sk-serial\"><div class=\"sk-item\"><div class=\"sk-estimator sk-toggleable\"><input class=\"sk-toggleable__control sk-hidden--visually\" id=\"sk-estimator-id-22\" type=\"checkbox\" ><label for=\"sk-estimator-id-22\" class=\"sk-toggleable__label sk-toggleable__label-arrow\">XGBRegressor</label><div class=\"sk-toggleable__content\"><pre>XGBRegressor(base_score=None, booster=None, callbacks=None,\n",
       "             colsample_bylevel=None, colsample_bynode=None,\n",
       "             colsample_bytree=None, device=None, early_stopping_rounds=None,\n",
       "             enable_categorical=False, eval_metric=None, feature_types=None,\n",
       "             gamma=None, grow_policy=None, importance_type=None,\n",
       "             interaction_constraints=None, learning_rate=0.01, max_bin=None,\n",
       "             max_cat_threshold=None, max_cat_to_onehot=None,\n",
       "             max_delta_step=None, max_depth=3, max_leaves=None,\n",
       "             min_child_weight=2, missing=nan, monotone_constraints=None,\n",
       "             multi_strategy=None, n_estimators=100, n_jobs=1,\n",
       "             num_parallel_tree=None, random_state=42, ...)</pre></div></div></div></div></div></div></div></div><div class=\"sk-item\"><div class=\"sk-estimator sk-toggleable\"><input class=\"sk-toggleable__control sk-hidden--visually\" id=\"sk-estimator-id-23\" type=\"checkbox\" ><label for=\"sk-estimator-id-23\" class=\"sk-toggleable__label sk-toggleable__label-arrow\">ExtraTreesRegressor</label><div class=\"sk-toggleable__content\"><pre>ExtraTreesRegressor(max_features=0.7000000000000001, min_samples_leaf=14,\n",
       "                    min_samples_split=6, random_state=42)</pre></div></div></div></div></div></div></div></div></div>"
      ],
      "text/plain": [
       "Pipeline(steps=[('transformer',\n",
       "                 ColumnTransformer(remainder='passthrough',\n",
       "                                   transformers=[('dfs_pipeline',\n",
       "                                                  Pipeline(steps=[('dfs_transformer',\n",
       "                                                                   DFSTransformer(ignore_variables={'Transactions': ['sex',\n",
       "                                                                                                                     'smoker',\n",
       "                                                                                                                     'region']},\n",
       "                                                                                  target_entity='Transactions',\n",
       "                                                                                  trans_primitives=['add_numeric',\n",
       "                                                                                                    'subtract_numeric',\n",
       "                                                                                                    'multiply_numeric',\n",
       "                                                                                                    'divide_numeric',\n",
       "                                                                                                    'greater_than',\n",
       "                                                                                                    'less_...\n",
       "                                                                           max_cat_to_onehot=None,\n",
       "                                                                           max_delta_step=None,\n",
       "                                                                           max_depth=3,\n",
       "                                                                           max_leaves=None,\n",
       "                                                                           min_child_weight=2,\n",
       "                                                                           missing=nan,\n",
       "                                                                           monotone_constraints=None,\n",
       "                                                                           multi_strategy=None,\n",
       "                                                                           n_estimators=100,\n",
       "                                                                           n_jobs=1,\n",
       "                                                                           num_parallel_tree=None,\n",
       "                                                                           random_state=42, ...))),\n",
       "                                 ('extratreesregressor',\n",
       "                                  ExtraTreesRegressor(max_features=0.7000000000000001,\n",
       "                                                      min_samples_leaf=14,\n",
       "                                                      min_samples_split=6,\n",
       "                                                      random_state=42))]))])"
      ]
     },
     "execution_count": 13,
     "metadata": {},
     "output_type": "execute_result"
    }
   ],
   "source": [
    "model.fit(X_train, y_train)"
   ]
  },
  {
   "cell_type": "markdown",
   "metadata": {},
   "source": [
    "## Test Model With Single Sample"
   ]
  },
  {
   "cell_type": "code",
   "execution_count": 14,
   "metadata": {},
   "outputs": [
    {
     "data": {
      "text/plain": [
       "array([21992.03266738])"
      ]
     },
     "execution_count": 14,
     "metadata": {},
     "output_type": "execute_result"
    }
   ],
   "source": [
    "# testing the ColumnTransformer\n",
    "test_df = pd.DataFrame([[65, \"male\", 12.5, 0, \"yes\", \"southwest\"]],\n",
    "                       columns=[\"age\", \"sex\", \"bmi\", \"children\", \"smoker\", \"region\"])\n",
    "\n",
    "\n",
    "result = model.predict(test_df)\n",
    "\n",
    "result"
   ]
  },
  {
   "cell_type": "markdown",
   "metadata": {},
   "source": [
    "## Save Model"
   ]
  },
  {
   "cell_type": "code",
   "execution_count": 15,
   "metadata": {},
   "outputs": [
    {
     "data": {
      "text/plain": [
       "['model.joblib']"
      ]
     },
     "execution_count": 15,
     "metadata": {},
     "output_type": "execute_result"
    }
   ],
   "source": [
    "joblib.dump(model, \"model.joblib\")"
   ]
  }
 ],
 "metadata": {
  "kernelspec": {
   "display_name": "Python 3 (ipykernel)",
   "language": "python",
   "name": "python3"
  },
  "language_info": {
   "codemirror_mode": {
    "name": "ipython",
    "version": 3
   },
   "file_extension": ".py",
   "mimetype": "text/x-python",
   "name": "python",
   "nbconvert_exporter": "python",
   "pygments_lexer": "ipython3",
   "version": "3.11.5"
  }
 },
 "nbformat": 4,
 "nbformat_minor": 4
}
